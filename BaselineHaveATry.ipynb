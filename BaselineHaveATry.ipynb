{
 "cells": [
  {
   "cell_type": "markdown",
   "id": "072f0a89",
   "metadata": {},
   "source": [
    "First to import the training and testinng data into the workspace."
   ]
  },
  {
   "cell_type": "code",
   "execution_count": 145,
   "id": "86877325",
   "metadata": {},
   "outputs": [],
   "source": [
    "import json\n",
    "\n",
    "# Openinng the JSON file\n",
    "openTrainData = open('data/train.json');\n",
    "openTestData = open('data/test.json');\n",
    "\n",
    "# returns JSON object as\n",
    "# a dictionary\n",
    "trainData = json.load(openTrainData);\n",
    "testData = json.load(openTestData);\n",
    "\n",
    "# Iterating through the trainData\n",
    "#for i in trainData:\n",
    "#    print(trainData[i]);\n",
    "\n",
    "# Iterating through the testData\n",
    "#for i in testData:\n",
    "#    print(testData[i]);\n",
    "\n",
    "# Closing file\n",
    "openTrainData.close();\n",
    "openTestData.close();"
   ]
  },
  {
   "cell_type": "markdown",
   "id": "537df29b",
   "metadata": {},
   "source": [
    "Baseline model for authorship attribution."
   ]
  },
  {
   "cell_type": "markdown",
   "id": "39398a5e",
   "metadata": {},
   "source": [
    "Idea1: associated each author with multiply key words using training data. predict the authorship attribution base on the key words. "
   ]
  },
  {
   "cell_type": "markdown",
   "id": "8829266a",
   "metadata": {},
   "source": [
    "Training part"
   ]
  },
  {
   "cell_type": "code",
   "execution_count": 146,
   "id": "8f5c3807",
   "metadata": {},
   "outputs": [],
   "source": [
    "from collections import Counter\n",
    "\n",
    "# create a dict to store the keywords associated with author\n",
    "authorDict = {}\n",
    "for i in range(2302):\n",
    "    authorDict[i] = []\n",
    "\n",
    "# add associate keywords to the author\n",
    "for i in trainData:\n",
    "    keywords = trainData[i]['keywords']\n",
    "    authors = trainData[i]['author']\n",
    "    for author in authors:\n",
    "        authorDict[author] = authorDict[author] + keywords\n",
    "\n",
    "# modify the keywords with counter which will show the keywords and its frequency\n",
    "for i in authorDict:\n",
    "    authorDict[i]=Counter(authorDict[i])\n",
    "    authorDict[i]=dict(authorDict[i])"
   ]
  },
  {
   "cell_type": "markdown",
   "id": "84b15b43",
   "metadata": {},
   "source": [
    "Testing part"
   ]
  },
  {
   "cell_type": "code",
   "execution_count": 147,
   "id": "427b348b",
   "metadata": {},
   "outputs": [],
   "source": [
    "# record the test result\n",
    "result = []\n",
    "\n",
    "for i in testData:\n",
    "    target = testData[i]['target']\n",
    "    keywords = testData[i]['keywords']\n",
    "    count = 0\n",
    "    total = len(keywords)\n",
    "    authorKey = authorDict[target].keys()\n",
    "    for j in keywords:\n",
    "        if j in authorKey:\n",
    "            count=count+1\n",
    "    result.append(count/total)\n"
   ]
  },
  {
   "cell_type": "code",
   "execution_count": 148,
   "id": "757d0130",
   "metadata": {},
   "outputs": [
    {
     "name": "stdout",
     "output_type": "stream",
     "text": [
      "1786\n",
      "214\n"
     ]
    }
   ],
   "source": [
    "#check the positive and negative\n",
    "positive = 0;\n",
    "negative = 0;\n",
    "for res in result:\n",
    "    if res > 0.5:\n",
    "        positive = positive +1\n",
    "    else :\n",
    "        negative = negative +1\n",
    "print(positive)\n",
    "print(negative)"
   ]
  },
  {
   "cell_type": "markdown",
   "id": "e373425a",
   "metadata": {},
   "source": [
    "Create the sample file"
   ]
  },
  {
   "cell_type": "code",
   "execution_count": 149,
   "id": "114901fe",
   "metadata": {},
   "outputs": [],
   "source": [
    "import csv\n",
    "\n",
    "header = ['Id','Predicted']\n",
    "data = []\n",
    "idNumber = 0\n",
    "for i in result:\n",
    "    data.append([idNumber,i])s\n",
    "    idNumber = idNumber+1\n",
    "\n",
    "filename = 'prediction.csv'\n",
    "with open(filename, 'w', newline=\"\") as file:\n",
    "    csvwriter = csv.writer(file)\n",
    "    csvwriter.writerow(header)\n",
    "    csvwriter.writerows(data)"
   ]
  },
  {
   "cell_type": "code",
   "execution_count": null,
   "id": "5f4a721a",
   "metadata": {},
   "outputs": [],
   "source": []
  }
 ],
 "metadata": {
  "kernelspec": {
   "display_name": "Python 3 (ipykernel)",
   "language": "python",
   "name": "python3"
  },
  "language_info": {
   "codemirror_mode": {
    "name": "ipython",
    "version": 3
   },
   "file_extension": ".py",
   "mimetype": "text/x-python",
   "name": "python",
   "nbconvert_exporter": "python",
   "pygments_lexer": "ipython3",
   "version": "3.8.5"
  }
 },
 "nbformat": 4,
 "nbformat_minor": 5
}
