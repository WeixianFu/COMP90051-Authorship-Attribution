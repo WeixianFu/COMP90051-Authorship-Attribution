{
 "cells": [
  {
   "cell_type": "markdown",
   "id": "709e5f87",
   "metadata": {},
   "source": [
    "remove those features that are most useful keywords for distinguishing target is author or not. \n",
    "if the target is the author, then whatever differences there are between their keywords will be reflected in only a relatively small number of features, despite possible differences in theme, genre and the like."
   ]
  },
  {
   "cell_type": "code",
   "execution_count": 107,
   "id": "42643791",
   "metadata": {
    "ExecuteTime": {
     "end_time": "2022-04-19T06:34:08.769962Z",
     "start_time": "2022-04-19T06:34:08.390535Z"
    }
   },
   "outputs": [
    {
     "data": {
      "text/plain": [
       "26108"
      ]
     },
     "execution_count": 107,
     "metadata": {},
     "output_type": "execute_result"
    }
   ],
   "source": [
    "import json\n",
    "\n",
    "# Openinng the JSON file\n",
    "openTrainData = open('data/train.json');\n",
    "openTestData = open('data/test.json');\n",
    "\n",
    "# returns JSON object as\n",
    "# a dictionary\n",
    "trainData = json.load(openTrainData);\n",
    "testData = json.load(openTestData);\n",
    "\n",
    "# Iterating through the trainData\n",
    "#for i in trainData:\n",
    "#    print(trainData[i]);\n",
    "\n",
    "# Iterating through the testData\n",
    "#for i in testData:\n",
    "#    print(testData[i]);\n",
    "\n",
    "# Closing file\n",
    "openTrainData.close();\n",
    "openTestData.close();\n",
    "\n",
    "len(trainData.items())"
   ]
  },
  {
   "cell_type": "code",
   "execution_count": 108,
   "id": "c63872b7",
   "metadata": {
    "ExecuteTime": {
     "end_time": "2022-04-19T06:34:10.153485Z",
     "start_time": "2022-04-19T06:34:10.109500Z"
    }
   },
   "outputs": [
    {
     "name": "stdout",
     "output_type": "stream",
     "text": [
      "min freq author happen 2217 times\n"
     ]
    }
   ],
   "source": [
    "from collections import defaultdict\n",
    "import random\n",
    "import copy\n",
    "\n",
    "authorIndexListDict = defaultdict(list)\n",
    "authorCounter = defaultdict(int)\n",
    "for k,v in trainData.items():\n",
    "    for author in v[\"author\"]:\n",
    "        authorIndexListDict[author].append(k)\n",
    "        authorCounter[author] += 1\n",
    "print(\"min freq author happen \" + str(min(authorCounter, key=authorCounter.get)) + \" times\")"
   ]
  },
  {
   "cell_type": "code",
   "execution_count": 109,
   "id": "8803e200",
   "metadata": {
    "ExecuteTime": {
     "end_time": "2022-04-19T06:34:12.154411Z",
     "start_time": "2022-04-19T06:34:11.941268Z"
    }
   },
   "outputs": [],
   "source": [
    "def becomeFalse (dict):\n",
    "    allAuthor = list(range(2032))\n",
    "    authors = copy.deepcopy(dict[\"author\"])\n",
    "    authors.append(dict[\"target\"])\n",
    "    complement = [author for author in allAuthor if author not in authors]\n",
    "    [temp] = random.sample(complement, 1)\n",
    "    dict[\"target\"] = temp\n",
    "\n",
    "\n",
    "randomAuthorsList2000 = random.sample(range(0, 2032), 2000)\n",
    "\n",
    "devData = {}\n",
    "for author in randomAuthorsList2000:\n",
    "    while(True):\n",
    "        [sampleChoosen] = random.sample(authorIndexListDict[author], 1)\n",
    "        if not sampleChoosen in devData.keys():\n",
    "            devData[sampleChoosen] = trainData[sampleChoosen]\n",
    "            devData[sampleChoosen][\"target\"] = author\n",
    "            devData[sampleChoosen][\"TrueTarget\"] = author\n",
    "            devData[sampleChoosen][\"author\"].remove(author)\n",
    "            trainData.pop(sampleChoosen)\n",
    "            break\n",
    "            \n",
    "len(trainData.items())\n",
    "falseDevdataKey = random.sample(list(devData.keys()) , 1000)\n",
    "for k in falseDevdataKey:\n",
    "    becomeFalse(devData[k])\n",
    "for k, v in devData.items():\n",
    "    v[\"coauthor\"] = v.pop(\"author\")\n",
    "    if v[\"target\"] == v[\"TrueTarget\"]:\n",
    "        v[\"label\"] = 1\n",
    "    else:\n",
    "        v[\"label\"] = 0"
   ]
  },
  {
   "cell_type": "code",
   "execution_count": 112,
   "id": "52757adc",
   "metadata": {
    "ExecuteTime": {
     "end_time": "2022-04-19T06:34:37.064424Z",
     "start_time": "2022-04-19T06:34:37.045422Z"
    }
   },
   "outputs": [
    {
     "name": "stdout",
     "output_type": "stream",
     "text": [
      "Develop set is devData, it has 2000 papers\n",
      "dict_keys(['venue', 'keywords', 'year', 'target', 'TrueTarget', 'coauthor', 'label'])\n",
      "train set is trainData, it has 24108 papers\n"
     ]
    }
   ],
   "source": [
    "print(\"Develop set is devData, it has \" + str(len(devData)) + \" papers\")\n",
    "for k, v in devData.items():\n",
    "    print(v.keys())\n",
    "    break\n",
    "print(\"train set is trainData, it has \" + str(len(trainData)) + \" papers\")"
   ]
  },
  {
   "cell_type": "code",
   "execution_count": 113,
   "id": "2c353aa7",
   "metadata": {
    "ExecuteTime": {
     "end_time": "2022-04-19T06:46:18.518715Z",
     "start_time": "2022-04-19T06:46:18.261153Z"
    }
   },
   "outputs": [],
   "source": [
    "from collections import Counter\n",
    "\n",
    "# create a dict to store the keywords associated with author\n",
    "authorDict = {}\n",
    "for i in range(2302):\n",
    "    authorDict[i] = []\n",
    "\n",
    "# add associate keywords to the author\n",
    "for i in trainData:\n",
    "    keywords = trainData[i]['keywords']\n",
    "    authors = trainData[i]['author']\n",
    "    for author in authors:\n",
    "        authorDict[author] = authorDict[author] + keywords\n",
    "\n",
    "# modify the keywords with counter which will show the keywords and its frequency\n",
    "for i in authorDict:\n",
    "    authorDict[i]=Counter(authorDict[i])\n",
    "    authorDict[i]=dict(authorDict[i])"
   ]
  },
  {
   "cell_type": "markdown",
   "id": "3a6e9997",
   "metadata": {},
   "source": [
    " for each key, use the feq "
   ]
  },
  {
   "cell_type": "code",
   "execution_count": 114,
   "id": "10eaa67e",
   "metadata": {
    "ExecuteTime": {
     "end_time": "2022-04-19T06:46:21.421900Z",
     "start_time": "2022-04-19T06:46:21.387243Z"
    }
   },
   "outputs": [],
   "source": [
    "dev_predict = []\n",
    "\n",
    "for i in devData:\n",
    "    target = devData[i]['target']\n",
    "    keywords = devData[i]['keywords']\n",
    "    count = 0\n",
    "    total = len(keywords)\n",
    "    authorKey = authorDict[target].keys()\n",
    "    for j in keywords:\n",
    "        if j in authorKey:\n",
    "            count=count+1\n",
    "    dev_predict.append(count/total)"
   ]
  },
  {
   "cell_type": "code",
   "execution_count": 115,
   "id": "bbc12bb1",
   "metadata": {
    "ExecuteTime": {
     "end_time": "2022-04-19T06:46:22.758352Z",
     "start_time": "2022-04-19T06:46:22.740401Z"
    }
   },
   "outputs": [],
   "source": [
    "dev_true = []\n",
    "for k,v in devData.items():\n",
    "    dev_true.append(v[\"label\"])"
   ]
  },
  {
   "cell_type": "code",
   "execution_count": 117,
   "id": "d1347efb",
   "metadata": {
    "ExecuteTime": {
     "end_time": "2022-04-19T06:46:30.495216Z",
     "start_time": "2022-04-19T06:46:30.476278Z"
    }
   },
   "outputs": [
    {
     "data": {
      "text/plain": [
       "0.7537769999999999"
      ]
     },
     "execution_count": 117,
     "metadata": {},
     "output_type": "execute_result"
    }
   ],
   "source": [
    "from sklearn import metrics\n",
    "fpr, tpr, thresholds = metrics.roc_curve(dev_true, dev_predict, pos_label=1)\n",
    "metrics.auc(fpr, tpr)"
   ]
  },
  {
   "cell_type": "markdown",
   "id": "294f18b8",
   "metadata": {},
   "source": [
    "remove most freq"
   ]
  },
  {
   "cell_type": "code",
   "execution_count": 135,
   "id": "ac30d34b",
   "metadata": {
    "ExecuteTime": {
     "end_time": "2022-04-19T07:22:38.309232Z",
     "start_time": "2022-04-19T07:22:37.520393Z"
    }
   },
   "outputs": [],
   "source": [
    "auc_x = list(range(10))\n",
    "auc_y = []\n",
    "\n",
    "authorDict_deep = copy.deepcopy(authorDict)\n",
    "devData_deep = copy.deepcopy(devData)\n",
    "\n",
    "for removeNum in auc_x:\n",
    "    dev_predict = []\n",
    "    for i in devData_deep:\n",
    "        target = devData_deep[i]['target']\n",
    "        keywords = devData_deep[i]['keywords']\n",
    "        count = 0\n",
    "        if removeNum != 0:\n",
    "            max_keyword = max(authorDict_deep[target], key=authorDict_deep[target].get)\n",
    "            authorDict_deep[target].pop(max_keyword)\n",
    "            if max_keyword in keywords:\n",
    "                keywords.remove(max_keyword)\n",
    "\n",
    "        total = len(keywords)\n",
    "        authorKey = authorDict_deep[target].keys()\n",
    "        for j in keywords:\n",
    "            if j in authorKey:\n",
    "                count=count+1\n",
    "        dev_predict.append(count/total)\n",
    "    try:\n",
    "        fpr, tpr, thresholds = metrics.roc_curve(dev_true, dev_predict, pos_label=1)\n",
    "    except:\n",
    "        print(dev_predict)\n",
    "    auc_y.append(metrics.auc(fpr, tpr))"
   ]
  },
  {
   "cell_type": "code",
   "execution_count": 136,
   "id": "d535b39e",
   "metadata": {
    "ExecuteTime": {
     "end_time": "2022-04-19T07:22:39.870233Z",
     "start_time": "2022-04-19T07:22:39.749983Z"
    }
   },
   "outputs": [
    {
     "data": {
      "text/plain": [
       "[<matplotlib.lines.Line2D at 0x1bdabb14340>]"
      ]
     },
     "execution_count": 136,
     "metadata": {},
     "output_type": "execute_result"
    },
    {
     "data": {
      "image/png": "[encoded data removed]",
      "text/plain": [
       "<Figure size 432x288 with 1 Axes>"
      ]
     },
     "metadata": {
      "needs_background": "light"
     },
     "output_type": "display_data"
    }
   ],
   "source": [
    "from matplotlib.pyplot import plot\n",
    "plot(auc_x, auc_y)\n",
    "x_l"
   ]
  },
  {
   "cell_type": "code",
   "execution_count": 137,
   "id": "ff97ef3f",
   "metadata": {
    "ExecuteTime": {
     "end_time": "2022-04-19T07:23:30.270298Z",
     "start_time": "2022-04-19T07:23:29.240784Z"
    }
   },
   "outputs": [],
   "source": [
    "auc_x = list(range(10))\n",
    "auc_y = []\n",
    "\n",
    "authorDict_deep = copy.deepcopy(authorDict)\n",
    "devData_deep = copy.deepcopy(devData)\n",
    "\n",
    "for removeNum in auc_x:\n",
    "    dev_predict = []\n",
    "    for i in devData_deep:\n",
    "        target = devData_deep[i]['target']\n",
    "        keywords = devData_deep[i]['keywords']\n",
    "        count = 0\n",
    "        if removeNum != 0:\n",
    "            max_keyword = max(authorDict_deep[target], key=authorDict_deep[target].get)\n",
    "            authorDict_deep[target].pop(max_keyword)\n",
    "            if max_keyword in keywords:\n",
    "                keywords.remove(max_keyword)\n",
    "\n",
    "        total = sum(authorDict_deep[target].values())\n",
    "        authorKey = authorDict_deep[target].keys()\n",
    "        for j in keywords:\n",
    "            if j in authorKey:\n",
    "                count=count+ authorDict_deep[target][j]\n",
    "        dev_predict.append(count/total)\n",
    "    try:\n",
    "        fpr, tpr, thresholds = metrics.roc_curve(dev_true, dev_predict, pos_label=1)\n",
    "    except:\n",
    "        print(dev_predict)\n",
    "    auc_y.append(metrics.auc(fpr, tpr))"
   ]
  },
  {
   "cell_type": "code",
   "execution_count": 138,
   "id": "4dac1f33",
   "metadata": {
    "ExecuteTime": {
     "end_time": "2022-04-19T07:23:31.832156Z",
     "start_time": "2022-04-19T07:23:31.721083Z"
    }
   },
   "outputs": [
    {
     "data": {
      "text/plain": [
       "[<matplotlib.lines.Line2D at 0x1bdad339970>]"
      ]
     },
     "execution_count": 138,
     "metadata": {},
     "output_type": "execute_result"
    },
    {
     "data": {
      "image/png": "[encoded data removed]",
      "text/plain": [
       "<Figure size 432x288 with 1 Axes>"
      ]
     },
     "metadata": {
      "needs_background": "light"
     },
     "output_type": "display_data"
    }
   ],
   "source": [
    "from matplotlib.pyplot import plot\n",
    "plot(auc_x, auc_y)"
   ]
  },
  {
   "cell_type": "markdown",
   "id": "53fd66ca",
   "metadata": {
    "ExecuteTime": {
     "end_time": "2022-04-19T07:10:02.971778Z",
     "start_time": "2022-04-19T07:10:02.401594Z"
    }
   },
   "source": [
    "Removing the most frequent n keywords did not get better results"
   ]
  },
  {
   "cell_type": "code",
   "execution_count": null,
   "id": "7e9a2538",
   "metadata": {},
   "outputs": [],
   "source": []
  }
 ],
 "metadata": {
  "kernelspec": {
   "display_name": "Python 3 (ipykernel)",
   "language": "python",
   "name": "python3"
  },
  "language_info": {
   "codemirror_mode": {
    "name": "ipython",
    "version": 3
   },
   "file_extension": ".py",
   "mimetype": "text/x-python",
   "name": "python",
   "nbconvert_exporter": "python",
   "pygments_lexer": "ipython3",
   "version": "3.9.7"
  },
  "latex_envs": {
   "LaTeX_envs_menu_present": true,
   "autoclose": false,
   "autocomplete": true,
   "bibliofile": "biblio.bib",
   "cite_by": "apalike",
   "current_citInitial": 1,
   "eqLabelWithNumbers": true,
   "eqNumInitial": 1,
   "hotkeys": {
    "equation": "Ctrl-E",
    "itemize": "Ctrl-I"
   },
   "labels_anchors": false,
   "latex_user_defs": false,
   "report_style_numbering": false,
   "user_envs_cfg": false
  },
  "toc": {
   "base_numbering": 1,
   "nav_menu": {},
   "number_sections": true,
   "sideBar": true,
   "skip_h1_title": false,
   "title_cell": "Table of Contents",
   "title_sidebar": "Contents",
   "toc_cell": false,
   "toc_position": {},
   "toc_section_display": true,
   "toc_window_display": false
  },
  "varInspector": {
   "cols": {
    "lenName": 16,
    "lenType": 16,
    "lenVar": 40
   },
   "kernels_config": {
    "python": {
     "delete_cmd_postfix": "",
     "delete_cmd_prefix": "del ",
     "library": "var_list.py",
     "varRefreshCmd": "print(var_dic_list())"
    },
    "r": {
     "delete_cmd_postfix": ") ",
     "delete_cmd_prefix": "rm(",
     "library": "var_list.r",
     "varRefreshCmd": "cat(var_dic_list()) "
    }
   },
   "position": {
    "height": "429.844px",
    "left": "2189.33px",
    "right": "20px",
    "top": "120px",
    "width": "350px"
   },
   "types_to_exclude": [
    "module",
    "function",
    "builtin_function_or_method",
    "instance",
    "_Feature"
   ],
   "window_display": true
  }
 },
 "nbformat": 4,
 "nbformat_minor": 5
}
