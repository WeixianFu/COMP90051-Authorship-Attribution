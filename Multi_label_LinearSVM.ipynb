{
 "cells": [
  {
   "cell_type": "code",
   "execution_count": 1,
   "id": "ae56b749",
   "metadata": {
    "ExecuteTime": {
     "end_time": "2022-04-21T00:39:20.760667Z",
     "start_time": "2022-04-21T00:39:19.191729Z"
    },
    "scrolled": true
   },
   "outputs": [
    {
     "data": {
      "text/html": [
       "<div>\n",
       "<style scoped>\n",
       "    .dataframe tbody tr th:only-of-type {\n",
       "        vertical-align: middle;\n",
       "    }\n",
       "\n",
       "    .dataframe tbody tr th {\n",
       "        vertical-align: top;\n",
       "    }\n",
       "\n",
       "    .dataframe thead th {\n",
       "        text-align: right;\n",
       "    }\n",
       "</style>\n",
       "<table border=\"1\" class=\"dataframe\">\n",
       "  <thead>\n",
       "    <tr style=\"text-align: right;\">\n",
       "      <th></th>\n",
       "      <th>venue</th>\n",
       "      <th>keywords</th>\n",
       "      <th>year</th>\n",
       "      <th>author</th>\n",
       "    </tr>\n",
       "  </thead>\n",
       "  <tbody>\n",
       "    <tr>\n",
       "      <th>0</th>\n",
       "      <td></td>\n",
       "      <td>[64, 1, 322, 134, 136, 396, 270, 144, 476, 481...</td>\n",
       "      <td>2017</td>\n",
       "      <td>[1605, 759]</td>\n",
       "    </tr>\n",
       "    <tr>\n",
       "      <th>1</th>\n",
       "      <td>0</td>\n",
       "      <td>[258, 260, 389, 261, 390, 396, 400, 17, 146, 2...</td>\n",
       "      <td>2013</td>\n",
       "      <td>[2182]</td>\n",
       "    </tr>\n",
       "    <tr>\n",
       "      <th>2</th>\n",
       "      <td>1</td>\n",
       "      <td>[320, 454, 266, 462, 17, 339, 404, 342, 407, 2...</td>\n",
       "      <td>2007</td>\n",
       "      <td>[2176]</td>\n",
       "    </tr>\n",
       "    <tr>\n",
       "      <th>3</th>\n",
       "      <td>2</td>\n",
       "      <td>[260, 132, 333, 15, 400, 272, 146, 401, 278, 3...</td>\n",
       "      <td>2013</td>\n",
       "      <td>[1107]</td>\n",
       "    </tr>\n",
       "    <tr>\n",
       "      <th>4</th>\n",
       "      <td>3</td>\n",
       "      <td>[64, 385, 449, 450, 71, 73, 268, 80, 216, 25, ...</td>\n",
       "      <td>2009</td>\n",
       "      <td>[1414]</td>\n",
       "    </tr>\n",
       "    <tr>\n",
       "      <th>...</th>\n",
       "      <td>...</td>\n",
       "      <td>...</td>\n",
       "      <td>...</td>\n",
       "      <td>...</td>\n",
       "    </tr>\n",
       "    <tr>\n",
       "      <th>26103</th>\n",
       "      <td>252</td>\n",
       "      <td>[384, 320, 136, 457, 75, 17, 146, 465, 468, 21...</td>\n",
       "      <td>2011</td>\n",
       "      <td>[656, 595]</td>\n",
       "    </tr>\n",
       "    <tr>\n",
       "      <th>26104</th>\n",
       "      <td>50</td>\n",
       "      <td>[318, 70, 457, 459, 396, 77, 146, 404, 468, 40...</td>\n",
       "      <td>2008</td>\n",
       "      <td>[876]</td>\n",
       "    </tr>\n",
       "    <tr>\n",
       "      <th>26105</th>\n",
       "      <td>6</td>\n",
       "      <td>[320, 260, 69, 9, 265, 461, 156, 476, 166, 425...</td>\n",
       "      <td>2008</td>\n",
       "      <td>[535]</td>\n",
       "    </tr>\n",
       "    <tr>\n",
       "      <th>26106</th>\n",
       "      <td>138</td>\n",
       "      <td>[450, 70, 198, 233, 394, 300, 492, 368, 246, 4...</td>\n",
       "      <td>2015</td>\n",
       "      <td>[1954]</td>\n",
       "    </tr>\n",
       "    <tr>\n",
       "      <th>26107</th>\n",
       "      <td>33</td>\n",
       "      <td>[260, 261, 132, 454, 136, 461, 14, 17, 146, 33...</td>\n",
       "      <td>2009</td>\n",
       "      <td>[1417, 1091]</td>\n",
       "    </tr>\n",
       "  </tbody>\n",
       "</table>\n",
       "<p>26108 rows × 4 columns</p>\n",
       "</div>"
      ],
      "text/plain": [
       "      venue                                           keywords  year  \\\n",
       "0            [64, 1, 322, 134, 136, 396, 270, 144, 476, 481...  2017   \n",
       "1         0  [258, 260, 389, 261, 390, 396, 400, 17, 146, 2...  2013   \n",
       "2         1  [320, 454, 266, 462, 17, 339, 404, 342, 407, 2...  2007   \n",
       "3         2  [260, 132, 333, 15, 400, 272, 146, 401, 278, 3...  2013   \n",
       "4         3  [64, 385, 449, 450, 71, 73, 268, 80, 216, 25, ...  2009   \n",
       "...     ...                                                ...   ...   \n",
       "26103   252  [384, 320, 136, 457, 75, 17, 146, 465, 468, 21...  2011   \n",
       "26104    50  [318, 70, 457, 459, 396, 77, 146, 404, 468, 40...  2008   \n",
       "26105     6  [320, 260, 69, 9, 265, 461, 156, 476, 166, 425...  2008   \n",
       "26106   138  [450, 70, 198, 233, 394, 300, 492, 368, 246, 4...  2015   \n",
       "26107    33  [260, 261, 132, 454, 136, 461, 14, 17, 146, 33...  2009   \n",
       "\n",
       "             author  \n",
       "0       [1605, 759]  \n",
       "1            [2182]  \n",
       "2            [2176]  \n",
       "3            [1107]  \n",
       "4            [1414]  \n",
       "...             ...  \n",
       "26103    [656, 595]  \n",
       "26104         [876]  \n",
       "26105         [535]  \n",
       "26106        [1954]  \n",
       "26107  [1417, 1091]  \n",
       "\n",
       "[26108 rows x 4 columns]"
      ]
     },
     "execution_count": 1,
     "metadata": {},
     "output_type": "execute_result"
    }
   ],
   "source": [
    "import json\n",
    "import pandas as pd\n",
    "import numpy as np\n",
    "from sklearn.feature_extraction.text import CountVectorizer, TfidfVectorizer\n",
    "from sklearn.model_selection import train_test_split\n",
    "from sklearn.multiclass import OneVsRestClassifier\n",
    "\n",
    "with open('data/train.json') as f_train:\n",
    "    train_data = json.load(f_train)\n",
    "\n",
    "# with open('data/test.json') as f_test:\n",
    "#     test_data = json.load(f_test)\n",
    "\n",
    "# Transpose index and columns\n",
    "df = pd.DataFrame(train_data).T\n",
    "\n",
    "# View the dataframe\n",
    "df"
   ]
  },
  {
   "cell_type": "code",
   "execution_count": 2,
   "id": "b4e0910e",
   "metadata": {
    "ExecuteTime": {
     "end_time": "2022-04-21T00:39:22.908636Z",
     "start_time": "2022-04-21T00:39:22.703865Z"
    },
    "scrolled": false
   },
   "outputs": [
    {
     "data": {
      "text/html": [
       "<div>\n",
       "<style scoped>\n",
       "    .dataframe tbody tr th:only-of-type {\n",
       "        vertical-align: middle;\n",
       "    }\n",
       "\n",
       "    .dataframe tbody tr th {\n",
       "        vertical-align: top;\n",
       "    }\n",
       "\n",
       "    .dataframe thead th {\n",
       "        text-align: right;\n",
       "    }\n",
       "</style>\n",
       "<table border=\"1\" class=\"dataframe\">\n",
       "  <thead>\n",
       "    <tr style=\"text-align: right;\">\n",
       "      <th></th>\n",
       "      <th>venue</th>\n",
       "      <th>keywords</th>\n",
       "      <th>year</th>\n",
       "      <th>author</th>\n",
       "    </tr>\n",
       "  </thead>\n",
       "  <tbody>\n",
       "    <tr>\n",
       "      <th>0</th>\n",
       "      <td>NaN</td>\n",
       "      <td>64,1,322,134,136,396,270,144,476,481,165,39,36...</td>\n",
       "      <td>2017</td>\n",
       "      <td>1605,759</td>\n",
       "    </tr>\n",
       "    <tr>\n",
       "      <th>1</th>\n",
       "      <td>0.0</td>\n",
       "      <td>258,260,389,261,390,396,400,17,146,274,21,283,...</td>\n",
       "      <td>2013</td>\n",
       "      <td>2182</td>\n",
       "    </tr>\n",
       "    <tr>\n",
       "      <th>2</th>\n",
       "      <td>1.0</td>\n",
       "      <td>320,454,266,462,17,339,404,342,407,25,154,474,...</td>\n",
       "      <td>2007</td>\n",
       "      <td>2176</td>\n",
       "    </tr>\n",
       "    <tr>\n",
       "      <th>3</th>\n",
       "      <td>2.0</td>\n",
       "      <td>260,132,333,15,400,272,146,401,278,342,25,346,...</td>\n",
       "      <td>2013</td>\n",
       "      <td>1107</td>\n",
       "    </tr>\n",
       "    <tr>\n",
       "      <th>4</th>\n",
       "      <td>3.0</td>\n",
       "      <td>64,385,449,450,71,73,268,80,216,25,161,226,166...</td>\n",
       "      <td>2009</td>\n",
       "      <td>1414</td>\n",
       "    </tr>\n",
       "    <tr>\n",
       "      <th>...</th>\n",
       "      <td>...</td>\n",
       "      <td>...</td>\n",
       "      <td>...</td>\n",
       "      <td>...</td>\n",
       "    </tr>\n",
       "    <tr>\n",
       "      <th>26103</th>\n",
       "      <td>252.0</td>\n",
       "      <td>384,320,136,457,75,17,146,465,468,212,342,151,...</td>\n",
       "      <td>2011</td>\n",
       "      <td>656,595</td>\n",
       "    </tr>\n",
       "    <tr>\n",
       "      <th>26104</th>\n",
       "      <td>50.0</td>\n",
       "      <td>318,70,457,459,396,77,146,404,468,407,87,474,9...</td>\n",
       "      <td>2008</td>\n",
       "      <td>876</td>\n",
       "    </tr>\n",
       "    <tr>\n",
       "      <th>26105</th>\n",
       "      <td>6.0</td>\n",
       "      <td>320,260,69,9,265,461,156,476,166,425,300,301,3...</td>\n",
       "      <td>2008</td>\n",
       "      <td>535</td>\n",
       "    </tr>\n",
       "    <tr>\n",
       "      <th>26106</th>\n",
       "      <td>138.0</td>\n",
       "      <td>450,70,198,233,394,300,492,368,246,406,154,156</td>\n",
       "      <td>2015</td>\n",
       "      <td>1954</td>\n",
       "    </tr>\n",
       "    <tr>\n",
       "      <th>26107</th>\n",
       "      <td>33.0</td>\n",
       "      <td>260,261,132,454,136,461,14,17,146,337,468,409,...</td>\n",
       "      <td>2009</td>\n",
       "      <td>1417,1091</td>\n",
       "    </tr>\n",
       "  </tbody>\n",
       "</table>\n",
       "<p>26108 rows × 4 columns</p>\n",
       "</div>"
      ],
      "text/plain": [
       "       venue                                           keywords  year  \\\n",
       "0        NaN  64,1,322,134,136,396,270,144,476,481,165,39,36...  2017   \n",
       "1        0.0  258,260,389,261,390,396,400,17,146,274,21,283,...  2013   \n",
       "2        1.0  320,454,266,462,17,339,404,342,407,25,154,474,...  2007   \n",
       "3        2.0  260,132,333,15,400,272,146,401,278,342,25,346,...  2013   \n",
       "4        3.0  64,385,449,450,71,73,268,80,216,25,161,226,166...  2009   \n",
       "...      ...                                                ...   ...   \n",
       "26103  252.0  384,320,136,457,75,17,146,465,468,212,342,151,...  2011   \n",
       "26104   50.0  318,70,457,459,396,77,146,404,468,407,87,474,9...  2008   \n",
       "26105    6.0  320,260,69,9,265,461,156,476,166,425,300,301,3...  2008   \n",
       "26106  138.0     450,70,198,233,394,300,492,368,246,406,154,156  2015   \n",
       "26107   33.0  260,261,132,454,136,461,14,17,146,337,468,409,...  2009   \n",
       "\n",
       "          author  \n",
       "0       1605,759  \n",
       "1           2182  \n",
       "2           2176  \n",
       "3           1107  \n",
       "4           1414  \n",
       "...          ...  \n",
       "26103    656,595  \n",
       "26104        876  \n",
       "26105        535  \n",
       "26106       1954  \n",
       "26107  1417,1091  \n",
       "\n",
       "[26108 rows x 4 columns]"
      ]
     },
     "execution_count": 2,
     "metadata": {},
     "output_type": "execute_result"
    }
   ],
   "source": [
    "# Notice that keywords and author now stores lists of int64,\n",
    "# Convert them into a single string => later for CountVectorizer\n",
    "# This is because the tokenizer function is designed to process strings only\n",
    "\n",
    "def join_list(l):\n",
    "    l_str = []\n",
    "    for x in l:\n",
    "        l_str.append(str(x))\n",
    "    return ','.join(l_str)\n",
    "\n",
    "df['keywords'] = df['keywords'].apply(join_list)\n",
    "df['author'] = df['author'].apply(join_list)\n",
    "\n",
    "# Notice the venue stores empty string \"\", replace it with np.NaN\n",
    "df = df.replace('', np.NaN)\n",
    "\n",
    "# View updated dataframe\n",
    "df\n",
    "\n"
   ]
  },
  {
   "cell_type": "markdown",
   "id": "b0ee2745",
   "metadata": {},
   "source": [
    "If you want to read about CountVectorizer:  \n",
    "https://scikit-learn.org/stable/modules/generated/sklearn.feature_extraction.text.CountVectorizer.html#sklearn.feature_extraction.text.CountVectorizer.build_tokenizer"
   ]
  },
  {
   "cell_type": "code",
   "execution_count": 3,
   "id": "a1b1c183",
   "metadata": {
    "ExecuteTime": {
     "end_time": "2022-04-21T00:39:26.129548Z",
     "start_time": "2022-04-21T00:39:26.054748Z"
    }
   },
   "outputs": [],
   "source": [
    "def string_comma_split(string):\n",
    "    return string.split(\",\")\n",
    "\n",
    "NUM_AUTHORS = 2302\n",
    "author_vocabulary = {}\n",
    "for i in range(NUM_AUTHORS):\n",
    "    author_vocabulary[str(i)] = i\n",
    "        \n",
    "# \n",
    "author_vectorizer = CountVectorizer(tokenizer=string_comma_split, vocabulary=author_vocabulary)\n",
    "y_multilabel = author_vectorizer.fit_transform(df['author'])"
   ]
  },
  {
   "cell_type": "markdown",
   "id": "46726252",
   "metadata": {},
   "source": [
    "API for scipy sparse matrix:  \n",
    "https://docs.scipy.org/doc/scipy/reference/generated/scipy.sparse.csr_matrix.html"
   ]
  },
  {
   "cell_type": "code",
   "execution_count": 4,
   "id": "d1f95f35",
   "metadata": {
    "ExecuteTime": {
     "end_time": "2022-04-21T00:27:32.595166Z",
     "start_time": "2022-04-21T00:27:32.527348Z"
    },
    "scrolled": true
   },
   "outputs": [
    {
     "name": "stdout",
     "output_type": "stream",
     "text": [
      "595\n",
      "656\n"
     ]
    }
   ],
   "source": [
    "# You may skip the following cell\n",
    "# example check: author ids of paper 26103:\n",
    "instance = y_multilabel.toarray()[26103]\n",
    "for i in range(NUM_AUTHORS):\n",
    "    if instance[i] == 1:\n",
    "        print(i)"
   ]
  },
  {
   "cell_type": "code",
   "execution_count": 5,
   "id": "547ffa0b",
   "metadata": {
    "ExecuteTime": {
     "end_time": "2022-04-21T00:39:33.651688Z",
     "start_time": "2022-04-21T00:39:33.631115Z"
    }
   },
   "outputs": [],
   "source": [
    "#WARINING: should use StratifiedShuffleSplit to search for best kernal parameters, for now, just \n",
    "X_train, X_valid, y_train, y_valid = train_test_split(df, y_multilabel, test_size=2000, random_state=18)"
   ]
  },
  {
   "cell_type": "code",
   "execution_count": 6,
   "id": "0ac6ece3",
   "metadata": {
    "ExecuteTime": {
     "end_time": "2022-04-21T00:39:36.808713Z",
     "start_time": "2022-04-21T00:39:36.479566Z"
    }
   },
   "outputs": [],
   "source": [
    "from sklearn.feature_extraction.text import TfidfVectorizer\n",
    "\n",
    "NUM_KEYWORDS = 500\n",
    "keyword_vocabulary = {}\n",
    "for i in range(NUM_KEYWORDS):\n",
    "    keyword_vocabulary[str(i)] = i\n",
    "\n",
    "keyword_vectorizer = TfidfVectorizer(tokenizer=string_comma_split, vocabulary=keyword_vocabulary)\n",
    "X_train_transform = keyword_vectorizer.fit_transform(X_train[\"keywords\"])\n",
    "X_valid_transform = keyword_vectorizer.fit_transform(X_valid[\"keywords\"])"
   ]
  },
  {
   "cell_type": "code",
   "execution_count": 63,
   "id": "c2132f42",
   "metadata": {
    "scrolled": true
   },
   "outputs": [],
   "source": [
    "# v = CountVectorizer(tokenizer=string_comma_split, vocabulary=keyword_vocabulary)\n",
    "# test = v.fit_transform(df[\"keywords\"])\n",
    "\n",
    "# instance = test.toarray()[26106]\n",
    "# for i in range(NUM_KEYWORDS):\n",
    "#     if instance[i] == 1:\n",
    "#         print(i)\n"
   ]
  },
  {
   "cell_type": "markdown",
   "id": "d5351f94",
   "metadata": {},
   "source": [
    "For multilabel classification:\n",
    "https://scikit-learn.org/stable/modules/generated/sklearn.multiclass.OneVsRestClassifier.html"
   ]
  },
  {
   "cell_type": "code",
   "execution_count": 7,
   "id": "adb62681",
   "metadata": {
    "ExecuteTime": {
     "end_time": "2022-04-21T00:39:39.249589Z",
     "start_time": "2022-04-21T00:39:39.198708Z"
    }
   },
   "outputs": [],
   "source": [
    "from sklearn.svm import SVC, LinearSVC\n",
    "from sklearn.linear_model import LogisticRegression\n",
    "cbsvm() = CalibratedClassifierCV(svm)\n",
    "clf = OneVsRestClassifier(LinearSVC(), n_jobs=-1)"
   ]
  },
  {
   "cell_type": "code",
   "execution_count": 8,
   "id": "1b93173e",
   "metadata": {
    "ExecuteTime": {
     "end_time": "2022-04-21T00:40:12.055281Z",
     "start_time": "2022-04-21T00:39:42.078519Z"
    },
    "scrolled": true
   },
   "outputs": [
    {
     "data": {
      "text/plain": [
       "OneVsRestClassifier(estimator=LinearSVC(), n_jobs=-1)"
      ]
     },
     "execution_count": 8,
     "metadata": {},
     "output_type": "execute_result"
    }
   ],
   "source": [
    "clf.fit(X_train_transform, y_train)"
   ]
  },
  {
   "cell_type": "markdown",
   "id": "b6d87640",
   "metadata": {},
   "source": [
    "If you want to get the results from testset, you can skip the following cells"
   ]
  },
  {
   "cell_type": "code",
   "execution_count": 35,
   "id": "ea47da9a",
   "metadata": {
    "ExecuteTime": {
     "end_time": "2022-04-20T11:17:52.753593Z",
     "start_time": "2022-04-20T11:17:48.339620Z"
    }
   },
   "outputs": [],
   "source": [
    "y_train_pred_proba = clf.predict_proba(X_train_transform)\n",
    "y_valid_pred_proba = clf.predict_proba(X_valid_transform)"
   ]
  },
  {
   "cell_type": "code",
   "execution_count": 36,
   "id": "c7dd23d2",
   "metadata": {
    "ExecuteTime": {
     "end_time": "2022-04-20T11:17:54.989236Z",
     "start_time": "2022-04-20T11:17:54.979157Z"
    }
   },
   "outputs": [],
   "source": [
    "from sklearn.metrics import roc_auc_score"
   ]
  },
  {
   "cell_type": "code",
   "execution_count": 84,
   "id": "50c1a324",
   "metadata": {},
   "outputs": [],
   "source": [
    "# roc_auc_score_train = roc_auc_score(y_train.toarray(), y_train_pred_proba,average='weighted')\n",
    "# roc_auc_score_test = roc_auc_score(y_valid.toarray(), y_valid_pred_proba,average='weighted')"
   ]
  },
  {
   "cell_type": "code",
   "execution_count": 37,
   "id": "51bf6401",
   "metadata": {
    "ExecuteTime": {
     "end_time": "2022-04-20T11:17:57.411822Z",
     "start_time": "2022-04-20T11:17:57.387377Z"
    }
   },
   "outputs": [],
   "source": [
    "import copy\n",
    "y1 = [row[1] for row in y_valid.toarray()]\n",
    "y2 = [row[1] for row in y_valid_pred_proba]"
   ]
  },
  {
   "cell_type": "code",
   "execution_count": 45,
   "id": "0c93add8",
   "metadata": {
    "ExecuteTime": {
     "end_time": "2022-04-20T11:31:38.237686Z",
     "start_time": "2022-04-20T11:31:38.228709Z"
    }
   },
   "outputs": [
    {
     "data": {
      "text/plain": [
       "scipy.sparse.csr.csr_matrix"
      ]
     },
     "execution_count": 45,
     "metadata": {},
     "output_type": "execute_result"
    }
   ],
   "source": [
    "type(X_train_transform)\n",
    "type(y_train)"
   ]
  },
  {
   "cell_type": "code",
   "execution_count": 38,
   "id": "a55f0a64",
   "metadata": {
    "ExecuteTime": {
     "end_time": "2022-04-20T11:18:02.498208Z",
     "start_time": "2022-04-20T11:18:02.492054Z"
    }
   },
   "outputs": [
    {
     "data": {
      "text/plain": [
       "0.9915708812260536"
      ]
     },
     "execution_count": 38,
     "metadata": {},
     "output_type": "execute_result"
    }
   ],
   "source": [
    "roc_auc_score(y1, y2)"
   ]
  },
  {
   "cell_type": "markdown",
   "id": "c5e6cfa7",
   "metadata": {},
   "source": [
    "If you want to get the results from testset, run the following cells."
   ]
  },
  {
   "cell_type": "code",
   "execution_count": 9,
   "id": "6d1e02a0",
   "metadata": {
    "ExecuteTime": {
     "end_time": "2022-04-21T00:40:19.662647Z",
     "start_time": "2022-04-21T00:40:19.567600Z"
    }
   },
   "outputs": [],
   "source": [
    "with open('data/test.json') as f_test:\n",
    "    test_data = json.load(f_test)\n",
    "\n",
    "df_test = pd.DataFrame(test_data).T\n",
    "df_test['keywords'] = df_test['keywords'].apply(join_list)\n",
    "# df_test['coauthor'] = df_test['coauthor'].apply(join_list)\n",
    "df_test = df_test.replace('', np.NaN)"
   ]
  },
  {
   "cell_type": "code",
   "execution_count": 10,
   "id": "577789f7",
   "metadata": {
    "ExecuteTime": {
     "end_time": "2022-04-21T00:40:22.730414Z",
     "start_time": "2022-04-21T00:40:22.702777Z"
    }
   },
   "outputs": [],
   "source": [
    "X_test_transform = keyword_vectorizer.transform(df_test[\"keywords\"])"
   ]
  },
  {
   "cell_type": "code",
   "execution_count": 15,
   "id": "db1b9aa1",
   "metadata": {
    "ExecuteTime": {
     "end_time": "2022-04-21T00:50:04.355312Z",
     "start_time": "2022-04-21T00:50:03.997097Z"
    }
   },
   "outputs": [],
   "source": [
    "y_test_pred_decision_function = clf.decision_function(X_test_transform)"
   ]
  },
  {
   "cell_type": "code",
   "execution_count": null,
   "id": "205a6b01",
   "metadata": {},
   "outputs": [],
   "source": [
    "import math\n",
    "def decision_function_to_proba(dcfn):\n",
    "    return 1/(1+math.exp(-dcfn))"
   ]
  },
  {
   "cell_type": "code",
   "execution_count": 23,
   "id": "f7087ceb",
   "metadata": {
    "ExecuteTime": {
     "end_time": "2022-04-21T00:56:09.205162Z",
     "start_time": "2022-04-21T00:56:09.189069Z"
    }
   },
   "outputs": [],
   "source": [
    "results_test = []\n",
    "counter = 0\n",
    "for item in list(df_test['target']):\n",
    "    results_test.append(decision_function_to_proba(y_test_pred_decision_function[counter][item]))\n",
    "    counter += 1"
   ]
  },
  {
   "cell_type": "code",
   "execution_count": 24,
   "id": "a545c12f",
   "metadata": {
    "ExecuteTime": {
     "end_time": "2022-04-21T00:56:15.743441Z",
     "start_time": "2022-04-21T00:56:15.733468Z"
    }
   },
   "outputs": [],
   "source": [
    "import csv\n",
    "\n",
    "header = ['Id','Predicted']\n",
    "data = []\n",
    "idNumber = 0\n",
    "for i in results_test:\n",
    "    data.append([idNumber,i])\n",
    "    idNumber = idNumber+1\n",
    "\n",
    "filename = 'multi_label_LinearSVM.csv'\n",
    "with open(filename, 'w', newline=\"\") as file:\n",
    "    csvwriter = csv.writer(file)\n",
    "    csvwriter.writerow(header)\n",
    "    csvwriter.writerows(data)"
   ]
  },
  {
   "cell_type": "code",
   "execution_count": null,
   "id": "ac72f07d",
   "metadata": {},
   "outputs": [],
   "source": []
  },
  {
   "cell_type": "code",
   "execution_count": null,
   "id": "4f2d6ba9",
   "metadata": {},
   "outputs": [],
   "source": []
  },
  {
   "cell_type": "code",
   "execution_count": null,
   "id": "46661b1b",
   "metadata": {},
   "outputs": [],
   "source": []
  }
 ],
 "metadata": {
  "kernelspec": {
   "display_name": "Python 3 (ipykernel)",
   "language": "python",
   "name": "python3"
  },
  "language_info": {
   "codemirror_mode": {
    "name": "ipython",
    "version": 3
   },
   "file_extension": ".py",
   "mimetype": "text/x-python",
   "name": "python",
   "nbconvert_exporter": "python",
   "pygments_lexer": "ipython3",
   "version": "3.9.7"
  },
  "latex_envs": {
   "LaTeX_envs_menu_present": true,
   "autoclose": false,
   "autocomplete": true,
   "bibliofile": "biblio.bib",
   "cite_by": "apalike",
   "current_citInitial": 1,
   "eqLabelWithNumbers": true,
   "eqNumInitial": 1,
   "hotkeys": {
    "equation": "Ctrl-E",
    "itemize": "Ctrl-I"
   },
   "labels_anchors": false,
   "latex_user_defs": false,
   "report_style_numbering": false,
   "user_envs_cfg": false
  },
  "toc": {
   "base_numbering": 1,
   "nav_menu": {},
   "number_sections": true,
   "sideBar": true,
   "skip_h1_title": false,
   "title_cell": "Table of Contents",
   "title_sidebar": "Contents",
   "toc_cell": false,
   "toc_position": {},
   "toc_section_display": true,
   "toc_window_display": false
  },
  "varInspector": {
   "cols": {
    "lenName": 16,
    "lenType": 16,
    "lenVar": 40
   },
   "kernels_config": {
    "python": {
     "delete_cmd_postfix": "",
     "delete_cmd_prefix": "del ",
     "library": "var_list.py",
     "varRefreshCmd": "print(var_dic_list())"
    },
    "r": {
     "delete_cmd_postfix": ") ",
     "delete_cmd_prefix": "rm(",
     "library": "var_list.r",
     "varRefreshCmd": "cat(var_dic_list()) "
    }
   },
   "position": {
    "height": "144.854px",
    "left": "2157.33px",
    "right": "20px",
    "top": "218px",
    "width": "350px"
   },
   "types_to_exclude": [
    "module",
    "function",
    "builtin_function_or_method",
    "instance",
    "_Feature"
   ],
   "window_display": true
  }
 },
 "nbformat": 4,
 "nbformat_minor": 5
}
