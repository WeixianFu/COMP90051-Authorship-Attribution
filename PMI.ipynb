{
 "cells": [
  {
   "cell_type": "code",
   "execution_count": 78,
   "id": "c0fb70d3",
   "metadata": {
    "ExecuteTime": {
     "end_time": "2022-04-22T12:29:07.694092Z",
     "start_time": "2022-04-22T12:29:07.679420Z"
    }
   },
   "outputs": [],
   "source": [
    "import json\n",
    "import copy\n",
    "import random\n",
    "import pickle\n",
    "import math\n",
    "import pandas as pd\n",
    "import numpy as np\n",
    "\n",
    "from collections import defaultdict\n",
    "from sklearn.feature_extraction.text import TfidfVectorizer\n",
    "from sklearn.svm import SVC, LinearSVC, SVC\n",
    "from sklearn.linear_model import LogisticRegression\n",
    "from sklearn.multiclass import OneVsRestClassifier\n",
    "from sklearn.calibration import CalibratedClassifierCV\n",
    "from BaseSVDD import BaseSVDD\n",
    "from multiprocessing import Pool, cpu_count\n",
    "from sklearn.decomposition import KernelPCA\n",
    "from sklearn.metrics import roc_auc_score\n",
    "from sklearn.model_selection import train_test_split\n",
    "from scipy import sparse"
   ]
  },
  {
   "cell_type": "markdown",
   "id": "046795ed",
   "metadata": {},
   "source": [
    "# Data R/W"
   ]
  },
  {
   "cell_type": "code",
   "execution_count": 79,
   "id": "3a5642a4",
   "metadata": {
    "ExecuteTime": {
     "end_time": "2022-04-22T12:29:10.218866Z",
     "start_time": "2022-04-22T12:29:09.926449Z"
    }
   },
   "outputs": [],
   "source": [
    "# Openinng the JSON file\n",
    "openAllData = open('data/train.json');\n",
    "openTestData = open('data/test.json');\n",
    "\n",
    "# returns JSON object as\n",
    "# a dictionary\n",
    "allData = json.load(openAllData);\n",
    "testData = json.load(openTestData);\n",
    "\n",
    "openAllData.close();\n",
    "openTestData.close();"
   ]
  },
  {
   "cell_type": "code",
   "execution_count": 80,
   "id": "9b08f427",
   "metadata": {
    "ExecuteTime": {
     "end_time": "2022-04-22T12:29:11.940159Z",
     "start_time": "2022-04-22T12:29:11.735411Z"
    }
   },
   "outputs": [],
   "source": [
    "allData_str_list = []\n",
    "for k1, v1 in allData.items():\n",
    "    templist = []\n",
    "    templist.append(\"year_\" + str(v1[\"year\"]))\n",
    "    templist.append(\"venue_\" + str(v1[\"venue\"]))\n",
    "    templist.extend([\"keywords_\" + str(keyword) for keyword in v1[\"keywords\"]])\n",
    "#     templist.extend([\"author_\" + str(author) for author in v1[\"author\"]])\n",
    "#     templist.extend(v1[\"author\"])\n",
    "    tempstr = ','.join(templist)\n",
    "    allData_str_list.append([tempstr, v1[\"author\"]])  "
   ]
  },
  {
   "cell_type": "markdown",
   "id": "abc37114",
   "metadata": {
    "ExecuteTime": {
     "end_time": "2022-04-21T23:58:42.066291Z",
     "start_time": "2022-04-21T23:58:42.053025Z"
    }
   },
   "source": [
    "# pre processing"
   ]
  },
  {
   "cell_type": "markdown",
   "id": "9e576988",
   "metadata": {},
   "source": [
    "## train test split"
   ]
  },
  {
   "cell_type": "code",
   "execution_count": 81,
   "id": "98109bbf",
   "metadata": {
    "ExecuteTime": {
     "end_time": "2022-04-22T12:29:14.554651Z",
     "start_time": "2022-04-22T12:29:14.533798Z"
    }
   },
   "outputs": [],
   "source": [
    "x_allData_str = [row[0] for row in allData_str_list]\n",
    "y_allData_str = [row[1] for row in allData_str_list]\n",
    "\n",
    "X_train, X_dev, y_train, y_dev = train_test_split(x_allData_str, y_allData_str, \n",
    "                                                    test_size=2000, random_state=90051, shuffle=True)"
   ]
  },
  {
   "cell_type": "markdown",
   "id": "77d14611",
   "metadata": {
    "ExecuteTime": {
     "end_time": "2022-04-21T23:58:10.725579Z",
     "start_time": "2022-04-21T23:58:10.717169Z"
    }
   },
   "source": [
    "## TFIDF "
   ]
  },
  {
   "cell_type": "code",
   "execution_count": 82,
   "id": "16eeedd8",
   "metadata": {
    "ExecuteTime": {
     "end_time": "2022-04-22T12:29:17.250654Z",
     "start_time": "2022-04-22T12:29:17.239309Z"
    }
   },
   "outputs": [],
   "source": [
    "NUM_YEAR = 20\n",
    "START_YEAR = 2000\n",
    "NUM_VENUE = 470\n",
    "NUM_KEYWORDS = 500\n",
    "NUM_AUTHOR = 2302\n",
    "vocabulary = {}\n",
    "vocab_index = 0\n",
    "for i in range(NUM_YEAR):\n",
    "    vocabulary[\"year_\"+str(START_YEAR+i)] = vocab_index\n",
    "    vocab_index+=1\n",
    "for i in range(NUM_VENUE):\n",
    "    vocabulary[\"venue_\"+str(i)] = vocab_index\n",
    "    vocab_index+=1\n",
    "for i in range(NUM_KEYWORDS):\n",
    "    vocabulary[\"keywords_\"+str(i)] = vocab_index\n",
    "    vocab_index+=1\n",
    "# for i in range(NUM_AUTHOR):\n",
    "#     vocabulary[\"author_\"+str(i)] = vocab_index\n",
    "#     vocab_index+=1"
   ]
  },
  {
   "cell_type": "code",
   "execution_count": 83,
   "id": "8677d559",
   "metadata": {
    "ExecuteTime": {
     "end_time": "2022-04-22T12:30:35.070120Z",
     "start_time": "2022-04-22T12:30:35.055264Z"
    }
   },
   "outputs": [],
   "source": [
    "def string_comma_split(string):\n",
    "    return string.split(\",\")\n",
    "tfidf_vectorizer = TfidfVectorizer(tokenizer=string_comma_split, vocabulary=vocabulary)"
   ]
  },
  {
   "cell_type": "code",
   "execution_count": 84,
   "id": "4f3e2f67",
   "metadata": {
    "ExecuteTime": {
     "end_time": "2022-04-22T12:30:39.087282Z",
     "start_time": "2022-04-22T12:30:38.733867Z"
    }
   },
   "outputs": [
    {
     "name": "stderr",
     "output_type": "stream",
     "text": [
      "C:\\ProgramData\\Anaconda3\\lib\\site-packages\\sklearn\\feature_extraction\\text.py:489: UserWarning: The parameter 'token_pattern' will not be used since 'tokenizer' is not None'\n",
      "  warnings.warn(\"The parameter 'token_pattern' will not be used\"\n"
     ]
    },
    {
     "data": {
      "text/plain": [
       "TfidfVectorizer(tokenizer=<function string_comma_split at 0x000002972431D3A0>,\n",
       "                vocabulary={'keywords_0': 490, 'keywords_1': 491,\n",
       "                            'keywords_10': 500, 'keywords_100': 590,\n",
       "                            'keywords_101': 591, 'keywords_102': 592,\n",
       "                            'keywords_103': 593, 'keywords_104': 594,\n",
       "                            'keywords_105': 595, 'keywords_106': 596,\n",
       "                            'keywords_107': 597, 'keywords_108': 598,\n",
       "                            'keywords_109': 599, 'keywords_11': 501,\n",
       "                            'keywords_110': 600, 'keywords_111': 601,\n",
       "                            'keywords_112': 602, 'keywords_113': 603,\n",
       "                            'keywords_114': 604, 'keywords_115': 605,\n",
       "                            'keywords_116': 606, 'keywords_117': 607,\n",
       "                            'keywords_118': 608, 'keywords_119': 609,\n",
       "                            'keywords_12': 502, 'keywords_120': 610,\n",
       "                            'keywords_121': 611, 'keywords_122': 612,\n",
       "                            'keywords_123': 613, 'keywords_124': 614, ...})"
      ]
     },
     "execution_count": 84,
     "metadata": {},
     "output_type": "execute_result"
    }
   ],
   "source": [
    "tfidf_vectorizer.fit(X_train)"
   ]
  },
  {
   "cell_type": "code",
   "execution_count": 87,
   "id": "80e12643",
   "metadata": {
    "ExecuteTime": {
     "end_time": "2022-04-22T12:30:58.560117Z",
     "start_time": "2022-04-22T12:30:58.230639Z"
    }
   },
   "outputs": [],
   "source": [
    "X_train_tfidf = tfidf_vectorizer.transform(X_train)"
   ]
  },
  {
   "cell_type": "code",
   "execution_count": 88,
   "id": "e5b4fc55",
   "metadata": {
    "ExecuteTime": {
     "end_time": "2022-04-22T12:31:00.677991Z",
     "start_time": "2022-04-22T12:31:00.663058Z"
    }
   },
   "outputs": [],
   "source": [
    "def y_transform(y_list):\n",
    "    y_transform = np.zeros((len(y_list), 2302))\n",
    "    for i in range(len(y_list)):\n",
    "        for j in y_list[i]:\n",
    "            y_transform[i][j] = 1\n",
    "    y_transform = sparse.csr_matrix(y_transform)\n",
    "    return y_transform"
   ]
  },
  {
   "cell_type": "code",
   "execution_count": 89,
   "id": "cadb573d",
   "metadata": {
    "ExecuteTime": {
     "end_time": "2022-04-22T12:31:12.902708Z",
     "start_time": "2022-04-22T12:31:12.350467Z"
    }
   },
   "outputs": [],
   "source": [
    "y_train_transform = y_transform(y_train)"
   ]
  },
  {
   "cell_type": "markdown",
   "id": "082b6e00",
   "metadata": {},
   "source": [
    "## author PMI"
   ]
  },
  {
   "cell_type": "code",
   "execution_count": 91,
   "id": "4b0f0b80",
   "metadata": {
    "ExecuteTime": {
     "end_time": "2022-04-22T12:32:05.323784Z",
     "start_time": "2022-04-22T12:32:05.302659Z"
    }
   },
   "outputs": [],
   "source": [
    "def co_occurance(author_list):\n",
    "    tempdict = defaultdict(int)\n",
    "    \n",
    "    for authors in author_list:\n",
    "        for index1 in range(len(authors)):\n",
    "            for index2 in range(index1, len(authors)):\n",
    "                key = tuple(sorted([authors[index1], authors[index2]]))\n",
    "                tempdict[key] += 1\n",
    "    \n",
    "    vocab = list(range(2302))\n",
    "    df = pd.DataFrame(data=np.zeros((2302, 2302), dtype=np.int16),index=vocab,columns=vocab)\n",
    "    for key, value in tempdict.items():\n",
    "        df.at[key[0], key[1]] = value\n",
    "        df.at[key[1], key[0]] = value\n",
    "    return df\n",
    "\n",
    "def pmi(df, positive=True):\n",
    "    col_totals = df.sum(axis=0)\n",
    "#     total = col_totals.sum()\n",
    "    row_totals = df.sum(axis=1)\n",
    "    total = np.zeros((len(row_totals), len(col_totals)))\n",
    "    \n",
    "    for i in range(len(row_totals)):\n",
    "        for j in range(len(col_totals)):\n",
    "            total[i][j] = row_totals[i] + col_totals[j] + 0.1\n",
    "            \n",
    "    for i in range(len(total)):\n",
    "        for j in range(len(total[i])):\n",
    "            if total[i][j] == 0:\n",
    "                total[i][j] = math.inf\n",
    "    expected = np.outer(row_totals, col_totals) / total\n",
    "    \n",
    "    for i in range(len(expected)):\n",
    "        for j in range(len(expected[i])):\n",
    "            if expected[i][j] == 0:\n",
    "                expected[i][j] = math.inf\n",
    "    df = df / expected\n",
    "    # Silence distracting warnings about log(0):\n",
    "    with np.errstate(divide='ignore'):\n",
    "        df = np.log(df)\n",
    "    df[np.isinf(df)] = -1  # log(0) = 0\n",
    "    if positive:\n",
    "        df[df < 0] = 0.0\n",
    "#     print(total)\n",
    "    return df\n",
    "\n",
    "def freq_proba(df):\n",
    "    author_totals = df.sum(axis=1)\n",
    "    freq_df = copy.deepcopy(df)\n",
    "    freq_df.to_numpy()\n",
    "    for row in range(len(freq_df)):\n",
    "        for col in range(len(freq_df[row])):\n",
    "            freq_df[row][col] == freq_df[row][col]/author_totals[col]\n",
    "    return freq_df\n",
    "\n",
    "def scale_to_05_1(num):\n",
    "    return (num**2 + 1)/2\n",
    "\n",
    "def sigmoid_my(num):\n",
    "    return 1/(1 + np.exp(-num))    "
   ]
  },
  {
   "cell_type": "code",
   "execution_count": 93,
   "id": "2c85ae1c",
   "metadata": {
    "ExecuteTime": {
     "end_time": "2022-04-22T12:33:59.900193Z",
     "start_time": "2022-04-22T12:33:09.807056Z"
    }
   },
   "outputs": [],
   "source": [
    "df = co_occurance(y_train)\n",
    "ppmi = pmi(df, positive=True)\n",
    "ppmi_sigmoid = sigmoid_my(ppmi)"
   ]
  },
  {
   "cell_type": "markdown",
   "id": "2250fb83",
   "metadata": {
    "ExecuteTime": {
     "end_time": "2022-04-22T10:32:18.554805Z",
     "start_time": "2022-04-22T10:32:18.544286Z"
    }
   },
   "source": [
    "## author post proba\n",
    "use the co-occurence freq to fix the proba"
   ]
  },
  {
   "cell_type": "code",
   "execution_count": 94,
   "id": "b98e6322",
   "metadata": {
    "ExecuteTime": {
     "end_time": "2022-04-22T12:36:48.354747Z",
     "start_time": "2022-04-22T12:35:07.767145Z"
    }
   },
   "outputs": [],
   "source": [
    "df = co_occurance(y_allData_str)\n",
    "freq_df = freq_proba(df)\n",
    "freq_df_scale = scale_to_05_1(freq_df)"
   ]
  },
  {
   "cell_type": "code",
   "execution_count": null,
   "id": "2579ee5e",
   "metadata": {},
   "outputs": [],
   "source": []
  },
  {
   "cell_type": "markdown",
   "id": "81606058",
   "metadata": {
    "ExecuteTime": {
     "end_time": "2022-04-22T01:01:45.054343Z",
     "start_time": "2022-04-22T01:01:45.040403Z"
    }
   },
   "source": [
    "# train"
   ]
  },
  {
   "cell_type": "code",
   "execution_count": 95,
   "id": "c60e5bd6",
   "metadata": {
    "ExecuteTime": {
     "end_time": "2022-04-22T12:37:12.464990Z",
     "start_time": "2022-04-22T12:37:12.454020Z"
    }
   },
   "outputs": [],
   "source": [
    "from sklearn.ensemble import RandomForestClassifier\n",
    "model = LinearSVC()\n",
    "clf = OneVsRestClassifier(model, n_jobs=-1)"
   ]
  },
  {
   "cell_type": "code",
   "execution_count": 96,
   "id": "15720757",
   "metadata": {
    "ExecuteTime": {
     "end_time": "2022-04-22T12:39:38.197636Z",
     "start_time": "2022-04-22T12:37:13.350856Z"
    },
    "scrolled": true
   },
   "outputs": [
    {
     "data": {
      "text/plain": [
       "OneVsRestClassifier(estimator=LinearSVC(), n_jobs=-1)"
      ]
     },
     "execution_count": 96,
     "metadata": {},
     "output_type": "execute_result"
    }
   ],
   "source": [
    "clf.fit(X_train_tfidf, y_train_transform.toarray())"
   ]
  },
  {
   "cell_type": "markdown",
   "id": "588f45bb",
   "metadata": {},
   "source": [
    "## processing dev data"
   ]
  },
  {
   "cell_type": "code",
   "execution_count": 22,
   "id": "8be0a10d",
   "metadata": {
    "ExecuteTime": {
     "end_time": "2022-04-22T11:54:35.528474Z",
     "start_time": "2022-04-22T11:54:35.495564Z"
    }
   },
   "outputs": [],
   "source": [
    "X_dev_tfidf = tfidf_vectorizer.transform(X_dev)"
   ]
  },
  {
   "cell_type": "code",
   "execution_count": 23,
   "id": "a1e28c0f",
   "metadata": {
    "ExecuteTime": {
     "end_time": "2022-04-22T11:54:37.306879Z",
     "start_time": "2022-04-22T11:54:36.975157Z"
    }
   },
   "outputs": [],
   "source": [
    "y_dev_decision_function = clf.decision_function(X_dev_tfidf)"
   ]
  },
  {
   "cell_type": "code",
   "execution_count": 28,
   "id": "e0a849f3",
   "metadata": {
    "ExecuteTime": {
     "end_time": "2022-04-22T11:55:21.569353Z",
     "start_time": "2022-04-22T11:55:21.479987Z"
    }
   },
   "outputs": [],
   "source": [
    "y_dev_proba_raw = sigmoid_my(y_dev_decision_function)"
   ]
  },
  {
   "cell_type": "markdown",
   "id": "b226a5ab",
   "metadata": {},
   "source": [
    "## result dev"
   ]
  },
  {
   "cell_type": "code",
   "execution_count": 29,
   "id": "4daa0fdf",
   "metadata": {
    "ExecuteTime": {
     "end_time": "2022-04-22T11:57:12.853632Z",
     "start_time": "2022-04-22T11:57:12.743500Z"
    }
   },
   "outputs": [],
   "source": [
    "def dev_get_author_target(y_dev):\n",
    "    target_list = []\n",
    "    coauthor = []\n",
    "    for author_list in y_dev:\n",
    "        templist = copy.deepcopy(author_list)\n",
    "        [target] = random.sample(author_list, 1)\n",
    "        target_list.append(target)\n",
    "        templist.remove(target)\n",
    "        coauthor.append(templist)\n",
    "    with_false = copy.deepcopy(target_list)\n",
    "    for i in range(0, 2000, 2):\n",
    "        all = set(list(range(2032)))\n",
    "        temp = set(y_dev[i])\n",
    "        [with_false[i]] = random.sample(list(all - temp), 1)\n",
    "    return target_list, coauthor, with_false\n",
    "true_target_list, coauthor_list, target_list = dev_get_author_target(y_dev)"
   ]
  },
  {
   "cell_type": "code",
   "execution_count": 48,
   "id": "0f7c3e07",
   "metadata": {
    "ExecuteTime": {
     "end_time": "2022-04-22T11:59:43.391425Z",
     "start_time": "2022-04-22T11:59:43.382511Z"
    }
   },
   "outputs": [],
   "source": [
    "def max_freq(freq_df_scale, coauthor_list, target):\n",
    "    max_freq = 0.5\n",
    "    for coauthor in coauthor_list:\n",
    "        max_freq = max(max_freq, freq_df_scale[target][coauthor])\n",
    "#     if max_ppmi>0.5:\n",
    "#         print(max_ppmi)\n",
    "    return max_freq\n",
    "\n",
    "def max_ppmi(data_ppmi_sigmoid, coauthor_list, target):\n",
    "    max_ppmi = 0.5\n",
    "    for coauthor in coauthor_list:\n",
    "        max_ppmi = max(max_ppmi, data_ppmi_sigmoid[target][coauthor])\n",
    "#     if max_ppmi>0.5:\n",
    "#         print(max_ppmi)\n",
    "    return max_ppmi\n",
    "    \n",
    "def raw_to_final(target_list, coauthor_list, data_proba_row, data_ppmi_sigmoid):\n",
    "    results = []\n",
    "    for i in range(len(target_list)):\n",
    "        target = target_list[i]\n",
    "        results.append(data_proba_row[i][target] * max_freq(freq_df_scale, coauthor_list[i], target)) \n",
    "        # if u want to use pmi to adjust the proba, use func max_ppmi instead of max_freq\n",
    "    return results       "
   ]
  },
  {
   "cell_type": "code",
   "execution_count": 54,
   "id": "7ded3165",
   "metadata": {
    "ExecuteTime": {
     "end_time": "2022-04-22T12:07:29.596192Z",
     "start_time": "2022-04-22T12:07:29.552347Z"
    }
   },
   "outputs": [],
   "source": [
    "results = []\n",
    "y_result = []\n",
    "for i in range(len(target_list)):\n",
    "    results.append(y_dev_proba_raw[i][target_list[i]])\n",
    "    if target_list[i] == true_target_list[i]:\n",
    "        y_result.append(1)\n",
    "    else:\n",
    "        y_result.append(0)\n",
    "        \n",
    "results = raw_to_final(target_list, coauthor_list, y_dev_proba_raw, freq_df_scale)"
   ]
  },
  {
   "cell_type": "code",
   "execution_count": 55,
   "id": "a2e3603f",
   "metadata": {
    "ExecuteTime": {
     "end_time": "2022-04-22T12:07:34.732439Z",
     "start_time": "2022-04-22T12:07:34.719402Z"
    }
   },
   "outputs": [
    {
     "data": {
      "text/plain": [
       "0.9390999999999999"
      ]
     },
     "execution_count": 55,
     "metadata": {},
     "output_type": "execute_result"
    }
   ],
   "source": [
    "roc_auc_score(y_result, results)"
   ]
  },
  {
   "cell_type": "markdown",
   "id": "fd7194b9",
   "metadata": {},
   "source": [
    "# 参数优化"
   ]
  },
  {
   "cell_type": "code",
   "execution_count": 34,
   "id": "d7b6b1d9",
   "metadata": {
    "ExecuteTime": {
     "end_time": "2022-04-22T08:43:22.011449Z",
     "start_time": "2022-04-22T08:39:41.557423Z"
    }
   },
   "outputs": [
    {
     "name": "stdout",
     "output_type": "stream",
     "text": [
      "0.01: 0.882266\n",
      "0.1: 0.882263\n",
      "1.0: 0.882262\n",
      "10.0: 0.882261\n",
      "100.0: 0.882265\n",
      "1000.0: 0.882266\n",
      "10000.0: 0.882263\n",
      "100000.0: 0.882263\n"
     ]
    }
   ],
   "source": [
    "# from sklearn.preprocessing import MinMaxScaler #if its a dense matrix else use MaxAbsScaler in case of sparse matrix\n",
    "\n",
    "# C_range = np.logspace(-2, 5, 8)\n",
    "# gamma_range = np.logspace(-6, 1, 1)\n",
    "# auc_C_gamma = defaultdict(float)\n",
    "\n",
    "# import multiprocessing as mp\n",
    "\n",
    "# for C in C_range:\n",
    "#     svc = LinearSVC()\n",
    "#     clf_c_gamma = OneVsRestClassifier(svc, n_jobs=-1)\n",
    "#     clf_c_gamma.fit(X_train_tfidf, y_train_transform)\n",
    "#     y_dev_decision_function = clf_c_gamma.decision_function(X_dev_tfidf)\n",
    "#     y_dev_proba_raw = sigmoid_my(y_dev_decision_function)\n",
    "#     results = []\n",
    "#     for i in range(len(target_list)):\n",
    "#         results.append(y_dev_proba_raw[i][target_list[i]])\n",
    "#     auc_C_gamma[C] = roc_auc_score(y_result, results)\n",
    "#     print(str(C) + \": \"+ str(auc_C_gamma[C]))"
   ]
  },
  {
   "cell_type": "code",
   "execution_count": null,
   "id": "cb5a8062",
   "metadata": {},
   "outputs": [],
   "source": [
    "# for C in C_range:\n",
    "#     for gamma in gamma_range:\n",
    "#         svc = LinearSVC(C=C, kernel=\"rbf\", gamma=gamma)\n",
    "#         clf_c_gamma = OneVsRestClassifier(svc, n_jobs=-1)\n",
    "#         clf_c_gamma.fit(X_train_tfidf, y_train_transform)\n",
    "#         y_dev_decision_function = clf.decision_function(X_dev_tfidf)\n",
    "#         y_dev_proba_raw = sigmoid_my(y_dev_decision_function)\n",
    "#         results = []\n",
    "#         for i in range(len(target_list)):\n",
    "#             results.append(y_dev_proba_raw[i][target_list[i]])\n",
    "#         auc_C_gamma[(C, gamma)] = roc_auc_score(y_result, results)\n",
    "#         print(auc_C_gamma[(C, gamma)])\n",
    "# def multi_run(C):\n",
    "#     for gamma in gamma_range:\n",
    "#         X_dev_tfidf_copy = copy.deepcopy(X_dev_tfidf)\n",
    "#         X_train_tfidf_copy = copy.deepcopy(X_train_tfidf)\n",
    "#         y_train_transform_cpoy = copy.deepcopy(y_train_transform)\n",
    "#         target_list_copy = copy.deepcopy(target_list)\n",
    "#         print(\"C:\"+ str(C) +\", gamma:\" + str(gamma))\n",
    "#         svc = SVC(C=C, kernel=\"rbf\", gamma=gamma)\n",
    "#         clf_c_gamma = OneVsRestClassifier(svc, n_jobs=1)\n",
    "#         clf_c_gamma.fit(X_train_tfidf_copy, y_train_transform_cpoy)\n",
    "#         y_dev_decision_function = clf_c_gamma.decision_function(X_dev_tfidf_copy)\n",
    "#         y_dev_proba_raw = sigmoid_my(y_dev_decision_function)\n",
    "#         results = []\n",
    "#         for i in range(len(target_list_copy)):\n",
    "#             results.append(y_dev_proba_raw[i][target_list_copy[i]])\n",
    "#         print({(C, gamma): roc_auc_score(y_result, results)})\n",
    "#         return {(C, gamma): roc_auc_score(y_result, results)}"
   ]
  },
  {
   "cell_type": "code",
   "execution_count": 25,
   "id": "0ff860c2",
   "metadata": {
    "ExecuteTime": {
     "end_time": "2022-04-22T07:30:13.802478Z",
     "start_time": "2022-04-22T07:20:27.032151Z"
    }
   },
   "outputs": [
    {
     "name": "stdout",
     "output_type": "stream",
     "text": [
      "C:1, gamma:1e-06\n",
      "{(1, 1e-06): 0.8851839999999999}\n"
     ]
    },
    {
     "data": {
      "text/plain": [
       "{(1, 1e-06): 0.8851839999999999}"
      ]
     },
     "execution_count": 25,
     "metadata": {},
     "output_type": "execute_result"
    }
   ],
   "source": [
    "# multi_run(1)"
   ]
  },
  {
   "cell_type": "code",
   "execution_count": null,
   "id": "e6636874",
   "metadata": {
    "ExecuteTime": {
     "start_time": "2022-04-22T07:14:32.206Z"
    }
   },
   "outputs": [
    {
     "name": "stdout",
     "output_type": "stream",
     "text": [
      "This computer have 8 cores\n"
     ]
    }
   ],
   "source": [
    "# import multiprocessing as mp\n",
    "\n",
    "# num_cores = int(mp.cpu_count())\n",
    "# print(\"This computer have \" + str(num_cores) + \" cores\")\n",
    "# pool = mp.Pool(num_cores)\n",
    "# all_roc = [pool.apply_async(multi_run, args=C) for C in C_range]\n",
    "# all_roc_result = [p.get() for p in all_roc]"
   ]
  },
  {
   "cell_type": "code",
   "execution_count": null,
   "id": "c7f137ec",
   "metadata": {},
   "outputs": [],
   "source": []
  },
  {
   "cell_type": "code",
   "execution_count": null,
   "id": "a7fb6337",
   "metadata": {},
   "outputs": [],
   "source": []
  },
  {
   "cell_type": "markdown",
   "id": "d9bbc59a",
   "metadata": {},
   "source": [
    "# test and save"
   ]
  },
  {
   "cell_type": "code",
   "execution_count": 71,
   "id": "5452bce9",
   "metadata": {
    "ExecuteTime": {
     "end_time": "2022-04-22T12:26:40.860893Z",
     "start_time": "2022-04-22T12:26:40.838786Z"
    }
   },
   "outputs": [],
   "source": [
    "testData_str_list = []\n",
    "for k1, v1 in testData.items():\n",
    "    templist = []\n",
    "    templist.append(\"year_\" + str(v1[\"year\"]))\n",
    "    templist.append(\"venue_\" + str(v1[\"venue\"]))\n",
    "    templist.extend([\"keywords_\" + str(keyword) for keyword in v1[\"keywords\"]])\n",
    "    tempstr = ','.join(templist)\n",
    "    testData_str_list.append([tempstr,v1[\"target\"], v1[\"coauthor\"]])  "
   ]
  },
  {
   "cell_type": "code",
   "execution_count": 72,
   "id": "2a90d9e9",
   "metadata": {
    "ExecuteTime": {
     "end_time": "2022-04-22T12:26:42.292675Z",
     "start_time": "2022-04-22T12:26:42.286667Z"
    }
   },
   "outputs": [],
   "source": [
    "x_testData_str = [row[0] for row in testData_str_list]\n",
    "y_testData = [row[1] for row in testData_str_list]\n",
    "coauthor_testData = [row[2] for row in testData_str_list]"
   ]
  },
  {
   "cell_type": "code",
   "execution_count": 73,
   "id": "abcfcc80",
   "metadata": {
    "ExecuteTime": {
     "end_time": "2022-04-22T12:26:44.348174Z",
     "start_time": "2022-04-22T12:26:44.310525Z"
    }
   },
   "outputs": [],
   "source": [
    "X_test_tfidf = tfidf_vectorizer.transform(x_testData_str)"
   ]
  },
  {
   "cell_type": "code",
   "execution_count": 74,
   "id": "96967c3c",
   "metadata": {
    "ExecuteTime": {
     "end_time": "2022-04-22T12:26:45.474790Z",
     "start_time": "2022-04-22T12:26:45.147654Z"
    }
   },
   "outputs": [],
   "source": [
    "y_test_decision_function = clf.decision_function(X_test_tfidf)"
   ]
  },
  {
   "cell_type": "code",
   "execution_count": 75,
   "id": "700e26e3",
   "metadata": {
    "ExecuteTime": {
     "end_time": "2022-04-22T12:26:46.346387Z",
     "start_time": "2022-04-22T12:26:46.285669Z"
    }
   },
   "outputs": [],
   "source": [
    "y_test_proba_raw = sigmoid_my(y_test_decision_function)"
   ]
  },
  {
   "cell_type": "code",
   "execution_count": null,
   "id": "53be9507",
   "metadata": {
    "ExecuteTime": {
     "end_time": "2022-04-22T10:21:06.823801Z",
     "start_time": "2022-04-22T10:21:06.809569Z"
    }
   },
   "outputs": [],
   "source": [
    "         "
   ]
  },
  {
   "cell_type": "code",
   "execution_count": 76,
   "id": "32130e74",
   "metadata": {
    "ExecuteTime": {
     "end_time": "2022-04-22T12:26:53.107671Z",
     "start_time": "2022-04-22T12:26:53.086415Z"
    }
   },
   "outputs": [],
   "source": [
    "results = raw_to_final(y_testData, coauthor_testData, y_test_proba_raw, freq_df_scale)"
   ]
  },
  {
   "cell_type": "code",
   "execution_count": null,
   "id": "55818cc3",
   "metadata": {
    "ExecuteTime": {
     "end_time": "2022-04-22T10:21:39.362456Z",
     "start_time": "2022-04-22T10:21:39.337525Z"
    }
   },
   "outputs": [],
   "source": []
  },
  {
   "cell_type": "code",
   "execution_count": 77,
   "id": "a59bb094",
   "metadata": {
    "ExecuteTime": {
     "end_time": "2022-04-22T12:26:55.458215Z",
     "start_time": "2022-04-22T12:26:55.446991Z"
    }
   },
   "outputs": [],
   "source": [
    "import csv\n",
    "\n",
    "header = ['Id','Predicted']\n",
    "data = []\n",
    "idNumber = 0\n",
    "for i in results:\n",
    "    data.append([idNumber,i])\n",
    "    idNumber = idNumber+1\n",
    "\n",
    "filename = 'multi_label_LinearSVM_FREQ.csv'\n",
    "with open(filename, 'w', newline=\"\") as file:\n",
    "    csvwriter = csv.writer(file)\n",
    "    csvwriter.writerow(header)\n",
    "    csvwriter.writerows(data)"
   ]
  },
  {
   "cell_type": "code",
   "execution_count": 175,
   "id": "d885d0bf",
   "metadata": {
    "ExecuteTime": {
     "end_time": "2022-04-22T02:15:13.340050Z",
     "start_time": "2022-04-22T02:15:13.304778Z"
    }
   },
   "outputs": [
    {
     "data": {
      "text/html": [
       "<div>\n",
       "<style scoped>\n",
       "    .dataframe tbody tr th:only-of-type {\n",
       "        vertical-align: middle;\n",
       "    }\n",
       "\n",
       "    .dataframe tbody tr th {\n",
       "        vertical-align: top;\n",
       "    }\n",
       "\n",
       "    .dataframe thead th {\n",
       "        text-align: right;\n",
       "    }\n",
       "</style>\n",
       "<table border=\"1\" class=\"dataframe\">\n",
       "  <thead>\n",
       "    <tr style=\"text-align: right;\">\n",
       "      <th></th>\n",
       "      <th>0</th>\n",
       "      <th>1</th>\n",
       "      <th>2</th>\n",
       "      <th>3</th>\n",
       "      <th>4</th>\n",
       "      <th>5</th>\n",
       "      <th>6</th>\n",
       "      <th>7</th>\n",
       "      <th>8</th>\n",
       "      <th>9</th>\n",
       "      <th>...</th>\n",
       "      <th>2292</th>\n",
       "      <th>2293</th>\n",
       "      <th>2294</th>\n",
       "      <th>2295</th>\n",
       "      <th>2296</th>\n",
       "      <th>2297</th>\n",
       "      <th>2298</th>\n",
       "      <th>2299</th>\n",
       "      <th>2300</th>\n",
       "      <th>2301</th>\n",
       "    </tr>\n",
       "  </thead>\n",
       "  <tbody>\n",
       "    <tr>\n",
       "      <th>0</th>\n",
       "      <td>0.5</td>\n",
       "      <td>0.5</td>\n",
       "      <td>0.5</td>\n",
       "      <td>0.5</td>\n",
       "      <td>0.5</td>\n",
       "      <td>0.5</td>\n",
       "      <td>0.5</td>\n",
       "      <td>0.5</td>\n",
       "      <td>0.5</td>\n",
       "      <td>0.5</td>\n",
       "      <td>...</td>\n",
       "      <td>0.5</td>\n",
       "      <td>0.5</td>\n",
       "      <td>0.5</td>\n",
       "      <td>0.5</td>\n",
       "      <td>0.5</td>\n",
       "      <td>0.5</td>\n",
       "      <td>0.5</td>\n",
       "      <td>0.5</td>\n",
       "      <td>0.5</td>\n",
       "      <td>0.5</td>\n",
       "    </tr>\n",
       "    <tr>\n",
       "      <th>1</th>\n",
       "      <td>0.5</td>\n",
       "      <td>0.5</td>\n",
       "      <td>0.5</td>\n",
       "      <td>0.5</td>\n",
       "      <td>0.5</td>\n",
       "      <td>0.5</td>\n",
       "      <td>0.5</td>\n",
       "      <td>0.5</td>\n",
       "      <td>0.5</td>\n",
       "      <td>0.5</td>\n",
       "      <td>...</td>\n",
       "      <td>0.5</td>\n",
       "      <td>0.5</td>\n",
       "      <td>0.5</td>\n",
       "      <td>0.5</td>\n",
       "      <td>0.5</td>\n",
       "      <td>0.5</td>\n",
       "      <td>0.5</td>\n",
       "      <td>0.5</td>\n",
       "      <td>0.5</td>\n",
       "      <td>0.5</td>\n",
       "    </tr>\n",
       "    <tr>\n",
       "      <th>2</th>\n",
       "      <td>0.5</td>\n",
       "      <td>0.5</td>\n",
       "      <td>0.5</td>\n",
       "      <td>0.5</td>\n",
       "      <td>0.5</td>\n",
       "      <td>0.5</td>\n",
       "      <td>0.5</td>\n",
       "      <td>0.5</td>\n",
       "      <td>0.5</td>\n",
       "      <td>0.5</td>\n",
       "      <td>...</td>\n",
       "      <td>0.5</td>\n",
       "      <td>0.5</td>\n",
       "      <td>0.5</td>\n",
       "      <td>0.5</td>\n",
       "      <td>0.5</td>\n",
       "      <td>0.5</td>\n",
       "      <td>0.5</td>\n",
       "      <td>0.5</td>\n",
       "      <td>0.5</td>\n",
       "      <td>0.5</td>\n",
       "    </tr>\n",
       "    <tr>\n",
       "      <th>3</th>\n",
       "      <td>0.5</td>\n",
       "      <td>0.5</td>\n",
       "      <td>0.5</td>\n",
       "      <td>0.5</td>\n",
       "      <td>0.5</td>\n",
       "      <td>0.5</td>\n",
       "      <td>0.5</td>\n",
       "      <td>0.5</td>\n",
       "      <td>0.5</td>\n",
       "      <td>0.5</td>\n",
       "      <td>...</td>\n",
       "      <td>0.5</td>\n",
       "      <td>0.5</td>\n",
       "      <td>0.5</td>\n",
       "      <td>0.5</td>\n",
       "      <td>0.5</td>\n",
       "      <td>0.5</td>\n",
       "      <td>0.5</td>\n",
       "      <td>0.5</td>\n",
       "      <td>0.5</td>\n",
       "      <td>0.5</td>\n",
       "    </tr>\n",
       "    <tr>\n",
       "      <th>4</th>\n",
       "      <td>0.5</td>\n",
       "      <td>0.5</td>\n",
       "      <td>0.5</td>\n",
       "      <td>0.5</td>\n",
       "      <td>0.5</td>\n",
       "      <td>0.5</td>\n",
       "      <td>0.5</td>\n",
       "      <td>0.5</td>\n",
       "      <td>0.5</td>\n",
       "      <td>0.5</td>\n",
       "      <td>...</td>\n",
       "      <td>0.5</td>\n",
       "      <td>0.5</td>\n",
       "      <td>0.5</td>\n",
       "      <td>0.5</td>\n",
       "      <td>0.5</td>\n",
       "      <td>0.5</td>\n",
       "      <td>0.5</td>\n",
       "      <td>0.5</td>\n",
       "      <td>0.5</td>\n",
       "      <td>0.5</td>\n",
       "    </tr>\n",
       "    <tr>\n",
       "      <th>...</th>\n",
       "      <td>...</td>\n",
       "      <td>...</td>\n",
       "      <td>...</td>\n",
       "      <td>...</td>\n",
       "      <td>...</td>\n",
       "      <td>...</td>\n",
       "      <td>...</td>\n",
       "      <td>...</td>\n",
       "      <td>...</td>\n",
       "      <td>...</td>\n",
       "      <td>...</td>\n",
       "      <td>...</td>\n",
       "      <td>...</td>\n",
       "      <td>...</td>\n",
       "      <td>...</td>\n",
       "      <td>...</td>\n",
       "      <td>...</td>\n",
       "      <td>...</td>\n",
       "      <td>...</td>\n",
       "      <td>...</td>\n",
       "      <td>...</td>\n",
       "    </tr>\n",
       "    <tr>\n",
       "      <th>2297</th>\n",
       "      <td>0.5</td>\n",
       "      <td>0.5</td>\n",
       "      <td>0.5</td>\n",
       "      <td>0.5</td>\n",
       "      <td>0.5</td>\n",
       "      <td>0.5</td>\n",
       "      <td>0.5</td>\n",
       "      <td>0.5</td>\n",
       "      <td>0.5</td>\n",
       "      <td>0.5</td>\n",
       "      <td>...</td>\n",
       "      <td>0.5</td>\n",
       "      <td>0.5</td>\n",
       "      <td>0.5</td>\n",
       "      <td>0.5</td>\n",
       "      <td>0.5</td>\n",
       "      <td>0.5</td>\n",
       "      <td>0.5</td>\n",
       "      <td>0.5</td>\n",
       "      <td>0.5</td>\n",
       "      <td>0.5</td>\n",
       "    </tr>\n",
       "    <tr>\n",
       "      <th>2298</th>\n",
       "      <td>0.5</td>\n",
       "      <td>0.5</td>\n",
       "      <td>0.5</td>\n",
       "      <td>0.5</td>\n",
       "      <td>0.5</td>\n",
       "      <td>0.5</td>\n",
       "      <td>0.5</td>\n",
       "      <td>0.5</td>\n",
       "      <td>0.5</td>\n",
       "      <td>0.5</td>\n",
       "      <td>...</td>\n",
       "      <td>0.5</td>\n",
       "      <td>0.5</td>\n",
       "      <td>0.5</td>\n",
       "      <td>0.5</td>\n",
       "      <td>0.5</td>\n",
       "      <td>0.5</td>\n",
       "      <td>0.5</td>\n",
       "      <td>0.5</td>\n",
       "      <td>0.5</td>\n",
       "      <td>0.5</td>\n",
       "    </tr>\n",
       "    <tr>\n",
       "      <th>2299</th>\n",
       "      <td>0.5</td>\n",
       "      <td>0.5</td>\n",
       "      <td>0.5</td>\n",
       "      <td>0.5</td>\n",
       "      <td>0.5</td>\n",
       "      <td>0.5</td>\n",
       "      <td>0.5</td>\n",
       "      <td>0.5</td>\n",
       "      <td>0.5</td>\n",
       "      <td>0.5</td>\n",
       "      <td>...</td>\n",
       "      <td>0.5</td>\n",
       "      <td>0.5</td>\n",
       "      <td>0.5</td>\n",
       "      <td>0.5</td>\n",
       "      <td>0.5</td>\n",
       "      <td>0.5</td>\n",
       "      <td>0.5</td>\n",
       "      <td>0.5</td>\n",
       "      <td>0.5</td>\n",
       "      <td>0.5</td>\n",
       "    </tr>\n",
       "    <tr>\n",
       "      <th>2300</th>\n",
       "      <td>0.5</td>\n",
       "      <td>0.5</td>\n",
       "      <td>0.5</td>\n",
       "      <td>0.5</td>\n",
       "      <td>0.5</td>\n",
       "      <td>0.5</td>\n",
       "      <td>0.5</td>\n",
       "      <td>0.5</td>\n",
       "      <td>0.5</td>\n",
       "      <td>0.5</td>\n",
       "      <td>...</td>\n",
       "      <td>0.5</td>\n",
       "      <td>0.5</td>\n",
       "      <td>0.5</td>\n",
       "      <td>0.5</td>\n",
       "      <td>0.5</td>\n",
       "      <td>0.5</td>\n",
       "      <td>0.5</td>\n",
       "      <td>0.5</td>\n",
       "      <td>0.5</td>\n",
       "      <td>0.5</td>\n",
       "    </tr>\n",
       "    <tr>\n",
       "      <th>2301</th>\n",
       "      <td>0.5</td>\n",
       "      <td>0.5</td>\n",
       "      <td>0.5</td>\n",
       "      <td>0.5</td>\n",
       "      <td>0.5</td>\n",
       "      <td>0.5</td>\n",
       "      <td>0.5</td>\n",
       "      <td>0.5</td>\n",
       "      <td>0.5</td>\n",
       "      <td>0.5</td>\n",
       "      <td>...</td>\n",
       "      <td>0.5</td>\n",
       "      <td>0.5</td>\n",
       "      <td>0.5</td>\n",
       "      <td>0.5</td>\n",
       "      <td>0.5</td>\n",
       "      <td>0.5</td>\n",
       "      <td>0.5</td>\n",
       "      <td>0.5</td>\n",
       "      <td>0.5</td>\n",
       "      <td>0.5</td>\n",
       "    </tr>\n",
       "  </tbody>\n",
       "</table>\n",
       "<p>2302 rows × 2302 columns</p>\n",
       "</div>"
      ],
      "text/plain": [
       "      0     1     2     3     4     5     6     7     8     9     ...  2292  \\\n",
       "0      0.5   0.5   0.5   0.5   0.5   0.5   0.5   0.5   0.5   0.5  ...   0.5   \n",
       "1      0.5   0.5   0.5   0.5   0.5   0.5   0.5   0.5   0.5   0.5  ...   0.5   \n",
       "2      0.5   0.5   0.5   0.5   0.5   0.5   0.5   0.5   0.5   0.5  ...   0.5   \n",
       "3      0.5   0.5   0.5   0.5   0.5   0.5   0.5   0.5   0.5   0.5  ...   0.5   \n",
       "4      0.5   0.5   0.5   0.5   0.5   0.5   0.5   0.5   0.5   0.5  ...   0.5   \n",
       "...    ...   ...   ...   ...   ...   ...   ...   ...   ...   ...  ...   ...   \n",
       "2297   0.5   0.5   0.5   0.5   0.5   0.5   0.5   0.5   0.5   0.5  ...   0.5   \n",
       "2298   0.5   0.5   0.5   0.5   0.5   0.5   0.5   0.5   0.5   0.5  ...   0.5   \n",
       "2299   0.5   0.5   0.5   0.5   0.5   0.5   0.5   0.5   0.5   0.5  ...   0.5   \n",
       "2300   0.5   0.5   0.5   0.5   0.5   0.5   0.5   0.5   0.5   0.5  ...   0.5   \n",
       "2301   0.5   0.5   0.5   0.5   0.5   0.5   0.5   0.5   0.5   0.5  ...   0.5   \n",
       "\n",
       "      2293  2294  2295  2296  2297  2298  2299  2300  2301  \n",
       "0      0.5   0.5   0.5   0.5   0.5   0.5   0.5   0.5   0.5  \n",
       "1      0.5   0.5   0.5   0.5   0.5   0.5   0.5   0.5   0.5  \n",
       "2      0.5   0.5   0.5   0.5   0.5   0.5   0.5   0.5   0.5  \n",
       "3      0.5   0.5   0.5   0.5   0.5   0.5   0.5   0.5   0.5  \n",
       "4      0.5   0.5   0.5   0.5   0.5   0.5   0.5   0.5   0.5  \n",
       "...    ...   ...   ...   ...   ...   ...   ...   ...   ...  \n",
       "2297   0.5   0.5   0.5   0.5   0.5   0.5   0.5   0.5   0.5  \n",
       "2298   0.5   0.5   0.5   0.5   0.5   0.5   0.5   0.5   0.5  \n",
       "2299   0.5   0.5   0.5   0.5   0.5   0.5   0.5   0.5   0.5  \n",
       "2300   0.5   0.5   0.5   0.5   0.5   0.5   0.5   0.5   0.5  \n",
       "2301   0.5   0.5   0.5   0.5   0.5   0.5   0.5   0.5   0.5  \n",
       "\n",
       "[2302 rows x 2302 columns]"
      ]
     },
     "execution_count": 175,
     "metadata": {},
     "output_type": "execute_result"
    }
   ],
   "source": [
    "ppmi_sigmoid"
   ]
  },
  {
   "cell_type": "code",
   "execution_count": null,
   "id": "7c132fa3",
   "metadata": {},
   "outputs": [],
   "source": []
  }
 ],
 "metadata": {
  "kernelspec": {
   "display_name": "Python 3 (ipykernel)",
   "language": "python",
   "name": "python3"
  },
  "language_info": {
   "codemirror_mode": {
    "name": "ipython",
    "version": 3
   },
   "file_extension": ".py",
   "mimetype": "text/x-python",
   "name": "python",
   "nbconvert_exporter": "python",
   "pygments_lexer": "ipython3",
   "version": "3.9.7"
  },
  "latex_envs": {
   "LaTeX_envs_menu_present": true,
   "autoclose": false,
   "autocomplete": true,
   "bibliofile": "biblio.bib",
   "cite_by": "apalike",
   "current_citInitial": 1,
   "eqLabelWithNumbers": true,
   "eqNumInitial": 1,
   "hotkeys": {
    "equation": "Ctrl-E",
    "itemize": "Ctrl-I"
   },
   "labels_anchors": false,
   "latex_user_defs": false,
   "report_style_numbering": false,
   "user_envs_cfg": false
  },
  "toc": {
   "base_numbering": 1,
   "nav_menu": {},
   "number_sections": true,
   "sideBar": true,
   "skip_h1_title": false,
   "title_cell": "Table of Contents",
   "title_sidebar": "Contents",
   "toc_cell": false,
   "toc_position": {},
   "toc_section_display": true,
   "toc_window_display": false
  },
  "varInspector": {
   "cols": {
    "lenName": 16,
    "lenType": 16,
    "lenVar": 40
   },
   "kernels_config": {
    "python": {
     "delete_cmd_postfix": "",
     "delete_cmd_prefix": "del ",
     "library": "var_list.py",
     "varRefreshCmd": "print(var_dic_list())"
    },
    "r": {
     "delete_cmd_postfix": ") ",
     "delete_cmd_prefix": "rm(",
     "library": "var_list.r",
     "varRefreshCmd": "cat(var_dic_list()) "
    }
   },
   "types_to_exclude": [
    "module",
    "function",
    "builtin_function_or_method",
    "instance",
    "_Feature"
   ],
   "window_display": false
  }
 },
 "nbformat": 4,
 "nbformat_minor": 5
}
