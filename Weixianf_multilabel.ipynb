{
 "cells": [
  {
   "cell_type": "markdown",
   "id": "709e5f87",
   "metadata": {},
   "source": [
    "remove those features that are most useful keywords for distinguishing target is author or not. \n",
    "if the target is the author, then whatever differences there are between their keywords will be reflected in only a relatively small number of features, despite possible differences in theme, genre and the like."
   ]
  },
  {
   "cell_type": "code",
   "execution_count": 1,
   "id": "30769a4c",
   "metadata": {
    "ExecuteTime": {
     "end_time": "2022-04-20T11:18:32.415533Z",
     "start_time": "2022-04-20T11:18:31.309006Z"
    }
   },
   "outputs": [],
   "source": [
    "import random\n",
    "import copy\n",
    "import json\n",
    "import numpy as np\n",
    "import pandas as pd\n",
    "import matplotlib.pyplot as plt\n",
    "\n",
    "from sklearn.svm import OneClassSVM\n",
    "from collections import defaultdict\n",
    "from sklearn.preprocessing import StandardScaler\n",
    "from sklearn.model_selection import train_test_split, StratifiedShuffleSplit, GridSearchCV"
   ]
  },
  {
   "cell_type": "code",
   "execution_count": 2,
   "id": "fab9eefc",
   "metadata": {
    "ExecuteTime": {
     "end_time": "2022-04-20T06:41:52.758262Z",
     "start_time": "2022-04-20T06:41:52.735578Z"
    }
   },
   "outputs": [],
   "source": [
    "from prince import MCA"
   ]
  },
  {
   "cell_type": "code",
   "execution_count": 2,
   "id": "42643791",
   "metadata": {
    "ExecuteTime": {
     "end_time": "2022-04-20T11:18:34.518247Z",
     "start_time": "2022-04-20T11:18:34.355788Z"
    }
   },
   "outputs": [
    {
     "data": {
      "text/plain": [
       "26108"
      ]
     },
     "execution_count": 2,
     "metadata": {},
     "output_type": "execute_result"
    }
   ],
   "source": [
    "# Openinng the JSON file\n",
    "openTrainData = open('data/train.json');\n",
    "openTestData = open('data/test.json');\n",
    "\n",
    "# returns JSON object as\n",
    "# a dictionary\n",
    "trainData = json.load(openTrainData);\n",
    "testData = json.load(openTestData);\n",
    "\n",
    "# Iterating through the trainData\n",
    "#for i in trainData:\n",
    "#    print(trainData[i]);\n",
    "\n",
    "# Iterating through the testData\n",
    "#for i in testData:\n",
    "#    print(testData[i]);\n",
    "\n",
    "# Closing file\n",
    "openTrainData.close();\n",
    "openTestData.close();\n",
    "\n",
    "len(trainData.items())"
   ]
  },
  {
   "cell_type": "code",
   "execution_count": null,
   "id": "6d06ff93",
   "metadata": {},
   "outputs": [],
   "source": []
  },
  {
   "cell_type": "code",
   "execution_count": 3,
   "id": "c63872b7",
   "metadata": {
    "ExecuteTime": {
     "end_time": "2022-04-20T11:18:37.486752Z",
     "start_time": "2022-04-20T11:18:37.445397Z"
    }
   },
   "outputs": [
    {
     "name": "stdout",
     "output_type": "stream",
     "text": [
      "min freq author happen 2217 times\n"
     ]
    }
   ],
   "source": [
    "authorIndexListDict = defaultdict(list)\n",
    "authorCounter = defaultdict(int)\n",
    "for k,v in trainData.items():\n",
    "    for author in v[\"author\"]:\n",
    "        authorIndexListDict[author].append(k)\n",
    "        authorCounter[author] += 1\n",
    "print(\"min freq author happen \" + str(min(authorCounter, key=authorCounter.get)) + \" times\")"
   ]
  },
  {
   "cell_type": "code",
   "execution_count": 4,
   "id": "8803e200",
   "metadata": {
    "ExecuteTime": {
     "end_time": "2022-04-20T11:18:39.476713Z",
     "start_time": "2022-04-20T11:18:39.235638Z"
    }
   },
   "outputs": [],
   "source": [
    "def becomeFalse (dict):\n",
    "    allAuthor = list(range(2032))\n",
    "    authors = copy.deepcopy(dict[\"author\"])\n",
    "    authors.append(dict[\"target\"])\n",
    "    complement = [author for author in allAuthor if author not in authors]\n",
    "    [temp] = random.sample(complement, 1)\n",
    "    dict[\"target\"] = temp\n",
    "\n",
    "\n",
    "randomAuthorsList2000 = random.sample(range(0, 2032), 2000)\n",
    "\n",
    "devData = {}\n",
    "for author in randomAuthorsList2000:\n",
    "    while(True):\n",
    "        [sampleChoosen] = random.sample(authorIndexListDict[author], 1)\n",
    "        if not sampleChoosen in devData.keys():\n",
    "            devData[sampleChoosen] = trainData[sampleChoosen]\n",
    "            devData[sampleChoosen][\"target\"] = author\n",
    "            devData[sampleChoosen][\"TrueTarget\"] = author\n",
    "            devData[sampleChoosen][\"author\"].remove(author)\n",
    "            trainData.pop(sampleChoosen)\n",
    "            break\n",
    "            \n",
    "len(trainData.items())\n",
    "falseDevdataKey = random.sample(list(devData.keys()) , 1000)\n",
    "for k in falseDevdataKey:\n",
    "    becomeFalse(devData[k])\n",
    "for k, v in devData.items():\n",
    "    v[\"coauthor\"] = v.pop(\"author\")\n",
    "    if v[\"target\"] == v[\"TrueTarget\"]:\n",
    "        v[\"label\"] = 1\n",
    "    else:\n",
    "        v[\"label\"] = 0"
   ]
  },
  {
   "cell_type": "code",
   "execution_count": 5,
   "id": "52757adc",
   "metadata": {
    "ExecuteTime": {
     "end_time": "2022-04-20T11:19:20.098955Z",
     "start_time": "2022-04-20T11:19:20.084643Z"
    }
   },
   "outputs": [
    {
     "name": "stdout",
     "output_type": "stream",
     "text": [
      "Develop set is devData, it has 2000 papers\n",
      "dict_keys(['venue', 'keywords', 'year', 'target', 'TrueTarget', 'coauthor', 'label'])\n",
      "train set is trainData, it has 24108 papers\n"
     ]
    }
   ],
   "source": [
    "print(\"Develop set is devData, it has \" + str(len(devData)) + \" papers\")\n",
    "for k, v in devData.items():\n",
    "    print(v.keys())\n",
    "    break\n",
    "print(\"train set is trainData, it has \" + str(len(trainData)) + \" papers\")"
   ]
  },
  {
   "cell_type": "code",
   "execution_count": 36,
   "id": "d22515d7",
   "metadata": {
    "ExecuteTime": {
     "end_time": "2022-04-20T11:52:38.505120Z",
     "start_time": "2022-04-20T11:52:30.807986Z"
    }
   },
   "outputs": [
    {
     "name": "stdout",
     "output_type": "stream",
     "text": [
      "24108 2804\n"
     ]
    }
   ],
   "source": [
    "def add_keyword_list(keyword_index):\n",
    "    list = [0] * 500\n",
    "    for item in keyword_index:\n",
    "        list[item] = 1\n",
    "    return list\n",
    "\n",
    "def add_author_list(author_index):\n",
    "    list = [0] * 2302\n",
    "    for item in author_index:\n",
    "        list[item] = 1\n",
    "    return list\n",
    "\n",
    "trainData_list = []  \n",
    "for k,v in trainData.items():\n",
    "    row_list = []\n",
    "    row_list.append(v[\"year\"])\n",
    "    if v[\"venue\"] == \"\":\n",
    "        row_list.append(470)\n",
    "    else:\n",
    "        row_list.append(v[\"venue\"])\n",
    "    row_list.extend(add_keyword_list(v[\"keywords\"]))\n",
    "    row_list.extend(add_author_list(v[\"author\"]))\n",
    "    trainData_list.append(row_list)\n",
    "\n",
    "print(len(trainData_list), len(trainData_list[0]))  \n",
    "\n",
    "testData_list = []  \n",
    "for k,v in testData.items():\n",
    "    row_list = []\n",
    "    row_list.append(v[\"year\"])\n",
    "    if v[\"venue\"] == \"\":\n",
    "        row_list.append(470)\n",
    "    else:\n",
    "        row_list.append(v[\"venue\"])\n",
    "    row_list.extend(add_keyword_list(v[\"keywords\"]))\n",
    "    row_list.extend(add_author_list(v[\"coauthor\"]))\n",
    "    row_list.append(v[\"target\"])\n",
    "    testData_list.append(row_list)\n",
    "\n",
    "devData_list = []  \n",
    "for k,v in devData.items():\n",
    "    row_list = []\n",
    "    row_list.append(v[\"year\"])\n",
    "    if v[\"venue\"] == \"\":\n",
    "        row_list.append(470)\n",
    "    else:\n",
    "        row_list.append(v[\"venue\"])\n",
    "    row_list.extend(add_keyword_list(v[\"keywords\"]))\n",
    "    row_list.extend(add_author_list(v[\"coauthor\"]))\n",
    "    row_list.append(v[\"target\"])\n",
    "    row_list.append(v[\"TrueTarget\"])\n",
    "    devData_list.append(row_list)"
   ]
  },
  {
   "cell_type": "code",
   "execution_count": null,
   "id": "bd021582",
   "metadata": {},
   "outputs": [],
   "source": []
  },
  {
   "cell_type": "code",
   "execution_count": 42,
   "id": "20c0048d",
   "metadata": {
    "ExecuteTime": {
     "end_time": "2022-04-20T11:58:20.952056Z",
     "start_time": "2022-04-20T11:58:20.936072Z"
    }
   },
   "outputs": [],
   "source": [
    "from sklearn.multiclass import OneVsRestClassifier\n",
    "from sklearn.linear_model import LogisticRegression\n",
    "from scipy import sparse\n",
    "from sklearn import metrics"
   ]
  },
  {
   "cell_type": "code",
   "execution_count": 8,
   "id": "f6f99400",
   "metadata": {
    "ExecuteTime": {
     "end_time": "2022-04-20T11:20:32.073740Z",
     "start_time": "2022-04-20T11:20:32.059363Z"
    }
   },
   "outputs": [],
   "source": [
    "clf = OneVsRestClassifier(LogisticRegression(), n_jobs=-1)"
   ]
  },
  {
   "cell_type": "code",
   "execution_count": 16,
   "id": "9743616a",
   "metadata": {
    "ExecuteTime": {
     "end_time": "2022-04-20T11:35:08.965281Z",
     "start_time": "2022-04-20T11:35:02.618874Z"
    }
   },
   "outputs": [],
   "source": [
    "X_train_transform = sparse.csr_matrix(np.array([row[0:502] for row in trainData_list]))\n",
    "y_train = sparse.csr_matrix(np.array([row[502:] for row in trainData_list]))"
   ]
  },
  {
   "cell_type": "code",
   "execution_count": 21,
   "id": "712459d2",
   "metadata": {
    "ExecuteTime": {
     "end_time": "2022-04-20T11:40:16.895362Z",
     "start_time": "2022-04-20T11:36:26.956160Z"
    }
   },
   "outputs": [
    {
     "data": {
      "text/plain": [
       "OneVsRestClassifier(estimator=LogisticRegression(), n_jobs=-1)"
      ]
     },
     "execution_count": 21,
     "metadata": {},
     "output_type": "execute_result"
    }
   ],
   "source": [
    "clf.fit(X_train_transform, y_train)"
   ]
  },
  {
   "cell_type": "code",
   "execution_count": 22,
   "id": "806240a7",
   "metadata": {
    "ExecuteTime": {
     "end_time": "2022-04-20T11:40:42.320231Z",
     "start_time": "2022-04-20T11:40:42.228392Z"
    }
   },
   "outputs": [],
   "source": [
    "X_dev_transform = np.array([row[0:502] for row in devData_list])"
   ]
  },
  {
   "cell_type": "code",
   "execution_count": 23,
   "id": "83126a45",
   "metadata": {
    "ExecuteTime": {
     "end_time": "2022-04-20T11:41:38.272975Z",
     "start_time": "2022-04-20T11:41:30.642562Z"
    }
   },
   "outputs": [],
   "source": [
    "y_dev_predict_proba_all = clf.predict_proba(X_dev_transform)"
   ]
  },
  {
   "cell_type": "code",
   "execution_count": 44,
   "id": "781adfb1",
   "metadata": {
    "ExecuteTime": {
     "end_time": "2022-04-20T12:01:45.121690Z",
     "start_time": "2022-04-20T12:01:45.111726Z"
    }
   },
   "outputs": [],
   "source": [
    "targets = [row[2804] for row in devData_list]\n",
    "true_targets_author = [row[2805] for row in devData_list]\n",
    "true_targets = []\n",
    "for i in range(len(true_targets_author)):\n",
    "    if true_targets_author[i] == targets[i]:\n",
    "        true_targets.append(1)\n",
    "    else:\n",
    "        true_targets.append(0)"
   ]
  },
  {
   "cell_type": "code",
   "execution_count": 40,
   "id": "31f5bf40",
   "metadata": {
    "ExecuteTime": {
     "end_time": "2022-04-20T11:56:26.995425Z",
     "start_time": "2022-04-20T11:56:26.976475Z"
    }
   },
   "outputs": [],
   "source": [
    "targets_proba = []\n",
    "row_counter = 0\n",
    "for item in targets:\n",
    "    targets_proba.append(y_dev_predict_proba_all[row_counter][item])\n",
    "    row_counter += 1   "
   ]
  },
  {
   "cell_type": "code",
   "execution_count": 46,
   "id": "8c69d621",
   "metadata": {
    "ExecuteTime": {
     "end_time": "2022-04-20T12:02:37.979204Z",
     "start_time": "2022-04-20T12:02:37.960419Z"
    }
   },
   "outputs": [
    {
     "name": "stdout",
     "output_type": "stream",
     "text": [
      "0.604079\n"
     ]
    }
   ],
   "source": [
    "fpr, tpr, thresholds = metrics.roc_curve(true_targets, targets_proba, pos_label=1)\n",
    "print(metrics.auc(fpr, tpr))"
   ]
  },
  {
   "cell_type": "code",
   "execution_count": null,
   "id": "30e8b529",
   "metadata": {},
   "outputs": [],
   "source": []
  },
  {
   "cell_type": "code",
   "execution_count": 48,
   "id": "56ab7f6f",
   "metadata": {
    "ExecuteTime": {
     "end_time": "2022-04-20T12:11:49.431451Z",
     "start_time": "2022-04-20T12:11:49.287775Z"
    }
   },
   "outputs": [
    {
     "data": {
      "text/plain": [
       "26108"
      ]
     },
     "execution_count": 48,
     "metadata": {},
     "output_type": "execute_result"
    }
   ],
   "source": [
    "# Openinng the JSON file\n",
    "openTrainData = open('data/train.json');\n",
    "openTestData = open('data/test.json');\n",
    "\n",
    "# returns JSON object as\n",
    "# a dictionary\n",
    "trainData = json.load(openTrainData);\n",
    "testData = json.load(openTestData);\n",
    "\n",
    "# Iterating through the trainData\n",
    "#for i in trainData:\n",
    "#    print(trainData[i]);\n",
    "\n",
    "# Iterating through the testData\n",
    "#for i in testData:\n",
    "#    print(testData[i]);\n",
    "\n",
    "# Closing file\n",
    "openTrainData.close();\n",
    "openTestData.close();\n",
    "\n",
    "len(trainData.items())"
   ]
  },
  {
   "cell_type": "code",
   "execution_count": 49,
   "id": "435ba202",
   "metadata": {
    "ExecuteTime": {
     "end_time": "2022-04-20T12:12:01.400961Z",
     "start_time": "2022-04-20T12:11:59.415229Z"
    }
   },
   "outputs": [
    {
     "name": "stdout",
     "output_type": "stream",
     "text": [
      "26108 2804\n"
     ]
    }
   ],
   "source": [
    "trainData_list = []  \n",
    "for k,v in trainData.items():\n",
    "    row_list = []\n",
    "    row_list.append(v[\"year\"])\n",
    "    if v[\"venue\"] == \"\":\n",
    "        row_list.append(470)\n",
    "    else:\n",
    "        row_list.append(v[\"venue\"])\n",
    "    row_list.extend(add_keyword_list(v[\"keywords\"]))\n",
    "    row_list.extend(add_author_list(v[\"author\"]))\n",
    "    trainData_list.append(row_list)\n",
    "print(len(trainData_list), len(trainData_list[0]))  "
   ]
  },
  {
   "cell_type": "code",
   "execution_count": 50,
   "id": "4475e361",
   "metadata": {
    "ExecuteTime": {
     "end_time": "2022-04-20T12:12:14.513311Z",
     "start_time": "2022-04-20T12:12:14.495465Z"
    }
   },
   "outputs": [],
   "source": [
    "clf = OneVsRestClassifier(LogisticRegression(), n_jobs=-1)"
   ]
  },
  {
   "cell_type": "code",
   "execution_count": 57,
   "id": "62729126",
   "metadata": {
    "ExecuteTime": {
     "end_time": "2022-04-20T12:15:10.724450Z",
     "start_time": "2022-04-20T12:15:03.367262Z"
    }
   },
   "outputs": [],
   "source": [
    "X_train_transform = sparse.csr_matrix(np.array([row[2:502] for row in trainData_list]))\n",
    "y_train = sparse.csr_matrix(np.array([row[502:] for row in trainData_list]))"
   ]
  },
  {
   "cell_type": "code",
   "execution_count": 58,
   "id": "620668df",
   "metadata": {
    "ExecuteTime": {
     "end_time": "2022-04-20T12:18:11.753190Z",
     "start_time": "2022-04-20T12:16:29.767484Z"
    }
   },
   "outputs": [
    {
     "data": {
      "text/plain": [
       "OneVsRestClassifier(estimator=LogisticRegression(), n_jobs=-1)"
      ]
     },
     "execution_count": 58,
     "metadata": {},
     "output_type": "execute_result"
    }
   ],
   "source": [
    "clf.fit(X_train_transform, y_train)"
   ]
  },
  {
   "cell_type": "code",
   "execution_count": 60,
   "id": "68d3758f",
   "metadata": {
    "ExecuteTime": {
     "end_time": "2022-04-20T12:19:31.813068Z",
     "start_time": "2022-04-20T12:19:23.599526Z"
    }
   },
   "outputs": [],
   "source": [
    "X_test_transform = np.array([row[2:502] for row in testData_list])\n",
    "y_test_predict_proba_all = clf.predict_proba(X_test_transform)"
   ]
  },
  {
   "cell_type": "code",
   "execution_count": 62,
   "id": "751e5c02",
   "metadata": {
    "ExecuteTime": {
     "end_time": "2022-04-20T12:20:46.552130Z",
     "start_time": "2022-04-20T12:20:46.529864Z"
    }
   },
   "outputs": [],
   "source": [
    "# targets = [row[2804] for row in testData_list]\n",
    "# true_targets_author = [row[2805] for row in testData_list]\n",
    "# true_targets = []\n",
    "# for i in range(len(true_targets_author)):\n",
    "#     if true_targets_author[i] == targets[i]:\n",
    "#         true_targets.append(1)\n",
    "#     else:\n",
    "#         true_targets.append(0)"
   ]
  },
  {
   "cell_type": "code",
   "execution_count": 63,
   "id": "e3291a0d",
   "metadata": {
    "ExecuteTime": {
     "end_time": "2022-04-20T12:20:57.011575Z",
     "start_time": "2022-04-20T12:20:56.986512Z"
    }
   },
   "outputs": [],
   "source": [
    "targets_proba = []\n",
    "row_counter = 0\n",
    "for item in targets:\n",
    "    targets_proba.append(y_dev_predict_proba_all[row_counter][item])\n",
    "    row_counter += 1   "
   ]
  },
  {
   "cell_type": "code",
   "execution_count": 64,
   "id": "84d54aa5",
   "metadata": {
    "ExecuteTime": {
     "end_time": "2022-04-20T12:21:07.257931Z",
     "start_time": "2022-04-20T12:21:07.234086Z"
    }
   },
   "outputs": [],
   "source": [
    "import csv\n",
    "\n",
    "header = ['Id','Predicted']\n",
    "data = []\n",
    "idNumber = 0\n",
    "for i in targets_proba:\n",
    "    data.append([idNumber,i])\n",
    "    idNumber = idNumber+1\n",
    "\n",
    "filename = 'multi_label_logistic_regression.csv'\n",
    "with open(filename, 'w', newline=\"\") as file:\n",
    "    csvwriter = csv.writer(file)\n",
    "    csvwriter.writerow(header)\n",
    "    csvwriter.writerows(data)"
   ]
  },
  {
   "cell_type": "code",
   "execution_count": null,
   "id": "877f687e",
   "metadata": {},
   "outputs": [],
   "source": []
  },
  {
   "cell_type": "code",
   "execution_count": null,
   "id": "58094526",
   "metadata": {},
   "outputs": [],
   "source": []
  },
  {
   "cell_type": "code",
   "execution_count": null,
   "id": "5ac3fb82",
   "metadata": {},
   "outputs": [],
   "source": []
  }
 ],
 "metadata": {
  "kernelspec": {
   "display_name": "Python 3 (ipykernel)",
   "language": "python",
   "name": "python3"
  },
  "language_info": {
   "codemirror_mode": {
    "name": "ipython",
    "version": 3
   },
   "file_extension": ".py",
   "mimetype": "text/x-python",
   "name": "python",
   "nbconvert_exporter": "python",
   "pygments_lexer": "ipython3",
   "version": "3.9.7"
  },
  "latex_envs": {
   "LaTeX_envs_menu_present": true,
   "autoclose": false,
   "autocomplete": true,
   "bibliofile": "biblio.bib",
   "cite_by": "apalike",
   "current_citInitial": 1,
   "eqLabelWithNumbers": true,
   "eqNumInitial": 1,
   "hotkeys": {
    "equation": "Ctrl-E",
    "itemize": "Ctrl-I"
   },
   "labels_anchors": false,
   "latex_user_defs": false,
   "report_style_numbering": false,
   "user_envs_cfg": false
  },
  "toc": {
   "base_numbering": 1,
   "nav_menu": {},
   "number_sections": true,
   "sideBar": true,
   "skip_h1_title": false,
   "title_cell": "Table of Contents",
   "title_sidebar": "Contents",
   "toc_cell": false,
   "toc_position": {},
   "toc_section_display": true,
   "toc_window_display": false
  },
  "varInspector": {
   "cols": {
    "lenName": 16,
    "lenType": 16,
    "lenVar": 40
   },
   "kernels_config": {
    "python": {
     "delete_cmd_postfix": "",
     "delete_cmd_prefix": "del ",
     "library": "var_list.py",
     "varRefreshCmd": "print(var_dic_list())"
    },
    "r": {
     "delete_cmd_postfix": ") ",
     "delete_cmd_prefix": "rm(",
     "library": "var_list.r",
     "varRefreshCmd": "cat(var_dic_list()) "
    }
   },
   "position": {
    "height": "756.844px",
    "left": "2189.33px",
    "right": "20px",
    "top": "120px",
    "width": "350px"
   },
   "types_to_exclude": [
    "module",
    "function",
    "builtin_function_or_method",
    "instance",
    "_Feature"
   ],
   "window_display": true
  }
 },
 "nbformat": 4,
 "nbformat_minor": 5
}
