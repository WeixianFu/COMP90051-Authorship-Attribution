{
 "cells": [
  {
   "cell_type": "code",
   "execution_count": 36,
   "id": "ae56b749",
   "metadata": {
    "scrolled": true
   },
   "outputs": [
    {
     "data": {
      "text/html": [
       "<div>\n",
       "<style scoped>\n",
       "    .dataframe tbody tr th:only-of-type {\n",
       "        vertical-align: middle;\n",
       "    }\n",
       "\n",
       "    .dataframe tbody tr th {\n",
       "        vertical-align: top;\n",
       "    }\n",
       "\n",
       "    .dataframe thead th {\n",
       "        text-align: right;\n",
       "    }\n",
       "</style>\n",
       "<table border=\"1\" class=\"dataframe\">\n",
       "  <thead>\n",
       "    <tr style=\"text-align: right;\">\n",
       "      <th></th>\n",
       "      <th>venue</th>\n",
       "      <th>keywords</th>\n",
       "      <th>year</th>\n",
       "      <th>author</th>\n",
       "    </tr>\n",
       "  </thead>\n",
       "  <tbody>\n",
       "    <tr>\n",
       "      <th>0</th>\n",
       "      <td></td>\n",
       "      <td>[64, 1, 322, 134, 136, 396, 270, 144, 476, 481...</td>\n",
       "      <td>2017</td>\n",
       "      <td>[1605, 759]</td>\n",
       "    </tr>\n",
       "    <tr>\n",
       "      <th>1</th>\n",
       "      <td>0</td>\n",
       "      <td>[258, 260, 389, 261, 390, 396, 400, 17, 146, 2...</td>\n",
       "      <td>2013</td>\n",
       "      <td>[2182]</td>\n",
       "    </tr>\n",
       "    <tr>\n",
       "      <th>2</th>\n",
       "      <td>1</td>\n",
       "      <td>[320, 454, 266, 462, 17, 339, 404, 342, 407, 2...</td>\n",
       "      <td>2007</td>\n",
       "      <td>[2176]</td>\n",
       "    </tr>\n",
       "    <tr>\n",
       "      <th>3</th>\n",
       "      <td>2</td>\n",
       "      <td>[260, 132, 333, 15, 400, 272, 146, 401, 278, 3...</td>\n",
       "      <td>2013</td>\n",
       "      <td>[1107]</td>\n",
       "    </tr>\n",
       "    <tr>\n",
       "      <th>4</th>\n",
       "      <td>3</td>\n",
       "      <td>[64, 385, 449, 450, 71, 73, 268, 80, 216, 25, ...</td>\n",
       "      <td>2009</td>\n",
       "      <td>[1414]</td>\n",
       "    </tr>\n",
       "    <tr>\n",
       "      <th>...</th>\n",
       "      <td>...</td>\n",
       "      <td>...</td>\n",
       "      <td>...</td>\n",
       "      <td>...</td>\n",
       "    </tr>\n",
       "    <tr>\n",
       "      <th>26103</th>\n",
       "      <td>252</td>\n",
       "      <td>[384, 320, 136, 457, 75, 17, 146, 465, 468, 21...</td>\n",
       "      <td>2011</td>\n",
       "      <td>[656, 595]</td>\n",
       "    </tr>\n",
       "    <tr>\n",
       "      <th>26104</th>\n",
       "      <td>50</td>\n",
       "      <td>[318, 70, 457, 459, 396, 77, 146, 404, 468, 40...</td>\n",
       "      <td>2008</td>\n",
       "      <td>[876]</td>\n",
       "    </tr>\n",
       "    <tr>\n",
       "      <th>26105</th>\n",
       "      <td>6</td>\n",
       "      <td>[320, 260, 69, 9, 265, 461, 156, 476, 166, 425...</td>\n",
       "      <td>2008</td>\n",
       "      <td>[535]</td>\n",
       "    </tr>\n",
       "    <tr>\n",
       "      <th>26106</th>\n",
       "      <td>138</td>\n",
       "      <td>[450, 70, 198, 233, 394, 300, 492, 368, 246, 4...</td>\n",
       "      <td>2015</td>\n",
       "      <td>[1954]</td>\n",
       "    </tr>\n",
       "    <tr>\n",
       "      <th>26107</th>\n",
       "      <td>33</td>\n",
       "      <td>[260, 261, 132, 454, 136, 461, 14, 17, 146, 33...</td>\n",
       "      <td>2009</td>\n",
       "      <td>[1417, 1091]</td>\n",
       "    </tr>\n",
       "  </tbody>\n",
       "</table>\n",
       "<p>26108 rows × 4 columns</p>\n",
       "</div>"
      ],
      "text/plain": [
       "      venue                                           keywords  year  \\\n",
       "0            [64, 1, 322, 134, 136, 396, 270, 144, 476, 481...  2017   \n",
       "1         0  [258, 260, 389, 261, 390, 396, 400, 17, 146, 2...  2013   \n",
       "2         1  [320, 454, 266, 462, 17, 339, 404, 342, 407, 2...  2007   \n",
       "3         2  [260, 132, 333, 15, 400, 272, 146, 401, 278, 3...  2013   \n",
       "4         3  [64, 385, 449, 450, 71, 73, 268, 80, 216, 25, ...  2009   \n",
       "...     ...                                                ...   ...   \n",
       "26103   252  [384, 320, 136, 457, 75, 17, 146, 465, 468, 21...  2011   \n",
       "26104    50  [318, 70, 457, 459, 396, 77, 146, 404, 468, 40...  2008   \n",
       "26105     6  [320, 260, 69, 9, 265, 461, 156, 476, 166, 425...  2008   \n",
       "26106   138  [450, 70, 198, 233, 394, 300, 492, 368, 246, 4...  2015   \n",
       "26107    33  [260, 261, 132, 454, 136, 461, 14, 17, 146, 33...  2009   \n",
       "\n",
       "             author  \n",
       "0       [1605, 759]  \n",
       "1            [2182]  \n",
       "2            [2176]  \n",
       "3            [1107]  \n",
       "4            [1414]  \n",
       "...             ...  \n",
       "26103    [656, 595]  \n",
       "26104         [876]  \n",
       "26105         [535]  \n",
       "26106        [1954]  \n",
       "26107  [1417, 1091]  \n",
       "\n",
       "[26108 rows x 4 columns]"
      ]
     },
     "execution_count": 36,
     "metadata": {},
     "output_type": "execute_result"
    }
   ],
   "source": [
    "import json\n",
    "import pandas as pd\n",
    "import numpy as np\n",
    "from sklearn.feature_extraction.text import CountVectorizer, TfidfVectorizer\n",
    "from sklearn.model_selection import train_test_split\n",
    "from sklearn.multiclass import OneVsRestClassifier\n",
    "\n",
    "with open('data/train.json') as f_train:\n",
    "    train_data = json.load(f_train)\n",
    "\n",
    "# with open('data/test.json') as f_test:\n",
    "#     test_data = json.load(f_test)\n",
    "\n",
    "# Transpose index and columns\n",
    "df = pd.DataFrame(train_data).T\n",
    "\n",
    "# View the dataframe\n",
    "df"
   ]
  },
  {
   "cell_type": "code",
   "execution_count": 37,
   "id": "b4e0910e",
   "metadata": {
    "scrolled": false
   },
   "outputs": [
    {
     "data": {
      "text/html": [
       "<div>\n",
       "<style scoped>\n",
       "    .dataframe tbody tr th:only-of-type {\n",
       "        vertical-align: middle;\n",
       "    }\n",
       "\n",
       "    .dataframe tbody tr th {\n",
       "        vertical-align: top;\n",
       "    }\n",
       "\n",
       "    .dataframe thead th {\n",
       "        text-align: right;\n",
       "    }\n",
       "</style>\n",
       "<table border=\"1\" class=\"dataframe\">\n",
       "  <thead>\n",
       "    <tr style=\"text-align: right;\">\n",
       "      <th></th>\n",
       "      <th>venue</th>\n",
       "      <th>keywords</th>\n",
       "      <th>year</th>\n",
       "      <th>author</th>\n",
       "    </tr>\n",
       "  </thead>\n",
       "  <tbody>\n",
       "    <tr>\n",
       "      <th>0</th>\n",
       "      <td>NaN</td>\n",
       "      <td>64,1,322,134,136,396,270,144,476,481,165,39,36...</td>\n",
       "      <td>2017</td>\n",
       "      <td>1605,759</td>\n",
       "    </tr>\n",
       "    <tr>\n",
       "      <th>1</th>\n",
       "      <td>0.0</td>\n",
       "      <td>258,260,389,261,390,396,400,17,146,274,21,283,...</td>\n",
       "      <td>2013</td>\n",
       "      <td>2182</td>\n",
       "    </tr>\n",
       "    <tr>\n",
       "      <th>2</th>\n",
       "      <td>1.0</td>\n",
       "      <td>320,454,266,462,17,339,404,342,407,25,154,474,...</td>\n",
       "      <td>2007</td>\n",
       "      <td>2176</td>\n",
       "    </tr>\n",
       "    <tr>\n",
       "      <th>3</th>\n",
       "      <td>2.0</td>\n",
       "      <td>260,132,333,15,400,272,146,401,278,342,25,346,...</td>\n",
       "      <td>2013</td>\n",
       "      <td>1107</td>\n",
       "    </tr>\n",
       "    <tr>\n",
       "      <th>4</th>\n",
       "      <td>3.0</td>\n",
       "      <td>64,385,449,450,71,73,268,80,216,25,161,226,166...</td>\n",
       "      <td>2009</td>\n",
       "      <td>1414</td>\n",
       "    </tr>\n",
       "    <tr>\n",
       "      <th>...</th>\n",
       "      <td>...</td>\n",
       "      <td>...</td>\n",
       "      <td>...</td>\n",
       "      <td>...</td>\n",
       "    </tr>\n",
       "    <tr>\n",
       "      <th>26103</th>\n",
       "      <td>252.0</td>\n",
       "      <td>384,320,136,457,75,17,146,465,468,212,342,151,...</td>\n",
       "      <td>2011</td>\n",
       "      <td>656,595</td>\n",
       "    </tr>\n",
       "    <tr>\n",
       "      <th>26104</th>\n",
       "      <td>50.0</td>\n",
       "      <td>318,70,457,459,396,77,146,404,468,407,87,474,9...</td>\n",
       "      <td>2008</td>\n",
       "      <td>876</td>\n",
       "    </tr>\n",
       "    <tr>\n",
       "      <th>26105</th>\n",
       "      <td>6.0</td>\n",
       "      <td>320,260,69,9,265,461,156,476,166,425,300,301,3...</td>\n",
       "      <td>2008</td>\n",
       "      <td>535</td>\n",
       "    </tr>\n",
       "    <tr>\n",
       "      <th>26106</th>\n",
       "      <td>138.0</td>\n",
       "      <td>450,70,198,233,394,300,492,368,246,406,154,156</td>\n",
       "      <td>2015</td>\n",
       "      <td>1954</td>\n",
       "    </tr>\n",
       "    <tr>\n",
       "      <th>26107</th>\n",
       "      <td>33.0</td>\n",
       "      <td>260,261,132,454,136,461,14,17,146,337,468,409,...</td>\n",
       "      <td>2009</td>\n",
       "      <td>1417,1091</td>\n",
       "    </tr>\n",
       "  </tbody>\n",
       "</table>\n",
       "<p>26108 rows × 4 columns</p>\n",
       "</div>"
      ],
      "text/plain": [
       "       venue                                           keywords  year  \\\n",
       "0        NaN  64,1,322,134,136,396,270,144,476,481,165,39,36...  2017   \n",
       "1        0.0  258,260,389,261,390,396,400,17,146,274,21,283,...  2013   \n",
       "2        1.0  320,454,266,462,17,339,404,342,407,25,154,474,...  2007   \n",
       "3        2.0  260,132,333,15,400,272,146,401,278,342,25,346,...  2013   \n",
       "4        3.0  64,385,449,450,71,73,268,80,216,25,161,226,166...  2009   \n",
       "...      ...                                                ...   ...   \n",
       "26103  252.0  384,320,136,457,75,17,146,465,468,212,342,151,...  2011   \n",
       "26104   50.0  318,70,457,459,396,77,146,404,468,407,87,474,9...  2008   \n",
       "26105    6.0  320,260,69,9,265,461,156,476,166,425,300,301,3...  2008   \n",
       "26106  138.0     450,70,198,233,394,300,492,368,246,406,154,156  2015   \n",
       "26107   33.0  260,261,132,454,136,461,14,17,146,337,468,409,...  2009   \n",
       "\n",
       "          author  \n",
       "0       1605,759  \n",
       "1           2182  \n",
       "2           2176  \n",
       "3           1107  \n",
       "4           1414  \n",
       "...          ...  \n",
       "26103    656,595  \n",
       "26104        876  \n",
       "26105        535  \n",
       "26106       1954  \n",
       "26107  1417,1091  \n",
       "\n",
       "[26108 rows x 4 columns]"
      ]
     },
     "execution_count": 37,
     "metadata": {},
     "output_type": "execute_result"
    }
   ],
   "source": [
    "# Notice that keywords and author now stores lists of int64,\n",
    "# Convert them into a single string => later for CountVectorizer\n",
    "# This is because the tokenizer function is designed to process strings only\n",
    "\n",
    "def join_list(l):\n",
    "    l_str = []\n",
    "    for x in l:\n",
    "        l_str.append(str(x))\n",
    "    return ','.join(l_str)\n",
    "\n",
    "df['keywords'] = df['keywords'].apply(join_list)\n",
    "df['author'] = df['author'].apply(join_list)\n",
    "\n",
    "# Notice the venue stores empty string \"\", replace it with np.NaN\n",
    "df = df.replace('', np.NaN)\n",
    "\n",
    "# View updated dataframe\n",
    "df\n",
    "\n"
   ]
  },
  {
   "cell_type": "markdown",
   "id": "b0ee2745",
   "metadata": {},
   "source": [
    "If you want to read about CountVectorizer:  \n",
    "https://scikit-learn.org/stable/modules/generated/sklearn.feature_extraction.text.CountVectorizer.html#sklearn.feature_extraction.text.CountVectorizer.build_tokenizer"
   ]
  },
  {
   "cell_type": "code",
   "execution_count": 38,
   "id": "a1b1c183",
   "metadata": {},
   "outputs": [],
   "source": [
    "def string_comma_split(string):\n",
    "    return string.split(\",\")\n",
    "\n",
    "NUM_AUTHORS = 2302\n",
    "author_vocabulary = {}\n",
    "for i in range(NUM_AUTHORS):\n",
    "    author_vocabulary[str(i)] = i\n",
    "        \n",
    "# \n",
    "author_vectorizer = CountVectorizer(tokenizer=string_comma_split, vocabulary=author_vocabulary)\n",
    "y_multilabel = author_vectorizer.fit_transform(df['author'])"
   ]
  },
  {
   "cell_type": "markdown",
   "id": "46726252",
   "metadata": {},
   "source": [
    "API for scipy sparse matrix:  \n",
    "https://docs.scipy.org/doc/scipy/reference/generated/scipy.sparse.csr_matrix.html"
   ]
  },
  {
   "cell_type": "code",
   "execution_count": 39,
   "id": "d1f95f35",
   "metadata": {
    "scrolled": true
   },
   "outputs": [
    {
     "name": "stdout",
     "output_type": "stream",
     "text": [
      "595\n",
      "656\n"
     ]
    }
   ],
   "source": [
    "# You may skip the following cell\n",
    "# example check: author ids of paper 26103:\n",
    "instance = y_multilabel.toarray()[26103]\n",
    "for i in range(NUM_AUTHORS):\n",
    "    if instance[i] == 1:\n",
    "        print(i)"
   ]
  },
  {
   "cell_type": "code",
   "execution_count": 61,
   "id": "547ffa0b",
   "metadata": {},
   "outputs": [],
   "source": [
    "#WARINING: should use StratifiedShuffleSplit to search for best kernal parameters, for now, just \n",
    "X_train, X_valid, y_train, y_valid = train_test_split(df, y_multilabel, test_size=0.9, random_state=18)"
   ]
  },
  {
   "cell_type": "code",
   "execution_count": 62,
   "id": "0ac6ece3",
   "metadata": {},
   "outputs": [],
   "source": [
    "from sklearn.feature_extraction.text import TfidfVectorizer\n",
    "\n",
    "NUM_KEYWORDS = 500\n",
    "keyword_vocabulary = {}\n",
    "for i in range(NUM_KEYWORDS):\n",
    "    keyword_vocabulary[str(i)] = i\n",
    "\n",
    "keyword_vectorizer = TfidfVectorizer(tokenizer=string_comma_split, vocabulary=keyword_vocabulary)\n",
    "X_train_transform = keyword_vectorizer.fit_transform(X_train[\"keywords\"])\n",
    "X_valid_transform = keyword_vectorizer.fit_transform(X_valid[\"keywords\"])"
   ]
  },
  {
   "cell_type": "code",
   "execution_count": 63,
   "id": "c2132f42",
   "metadata": {
    "scrolled": true
   },
   "outputs": [],
   "source": [
    "# v = CountVectorizer(tokenizer=string_comma_split, vocabulary=keyword_vocabulary)\n",
    "# test = v.fit_transform(df[\"keywords\"])\n",
    "\n",
    "# instance = test.toarray()[26106]\n",
    "# for i in range(NUM_KEYWORDS):\n",
    "#     if instance[i] == 1:\n",
    "#         print(i)"
   ]
  },
  {
   "cell_type": "markdown",
   "id": "d5351f94",
   "metadata": {},
   "source": [
    "For multilabel classification:\n",
    "https://scikit-learn.org/stable/modules/generated/sklearn.multiclass.OneVsRestClassifier.html"
   ]
  },
  {
   "cell_type": "code",
   "execution_count": 64,
   "id": "adb62681",
   "metadata": {},
   "outputs": [],
   "source": [
    "from sklearn.svm import SVC\n",
    "from sklearn.linear_model import LogisticRegression\n",
    "clf = OneVsRestClassifier(LogisticRegression(), n_jobs=-1)"
   ]
  },
  {
   "cell_type": "code",
   "execution_count": 65,
   "id": "1b93173e",
   "metadata": {
    "scrolled": true
   },
   "outputs": [
    {
     "data": {
      "text/plain": [
       "OneVsRestClassifier(estimator=LogisticRegression(), n_jobs=-1)"
      ]
     },
     "execution_count": 65,
     "metadata": {},
     "output_type": "execute_result"
    }
   ],
   "source": [
    "clf.fit(X_train_transform, y_train)"
   ]
  },
  {
   "cell_type": "code",
   "execution_count": 86,
   "id": "ea47da9a",
   "metadata": {},
   "outputs": [],
   "source": [
    "y_train_pred_proba = clf.predict_proba(X_train_transform)\n",
    "y_valid_pred_proba = clf.predict_proba(X_valid_transform)"
   ]
  },
  {
   "cell_type": "code",
   "execution_count": 87,
   "id": "c7dd23d2",
   "metadata": {},
   "outputs": [],
   "source": [
    "from sklearn.metrics import roc_auc_score"
   ]
  },
  {
   "cell_type": "code",
   "execution_count": 84,
   "id": "50c1a324",
   "metadata": {},
   "outputs": [],
   "source": [
    "# roc_auc_score_train = roc_auc_score(y_train.toarray(), y_train_pred_proba,average='weighted')\n",
    "# roc_auc_score_test = roc_auc_score(y_valid.toarray(), y_valid_pred_proba,average='weighted')"
   ]
  },
  {
   "cell_type": "code",
   "execution_count": null,
   "id": "51bf6401",
   "metadata": {},
   "outputs": [],
   "source": []
  }
 ],
 "metadata": {
  "kernelspec": {
   "display_name": "Python 3 (ipykernel)",
   "language": "python",
   "name": "python3"
  },
  "language_info": {
   "codemirror_mode": {
    "name": "ipython",
    "version": 3
   },
   "file_extension": ".py",
   "mimetype": "text/x-python",
   "name": "python",
   "nbconvert_exporter": "python",
   "pygments_lexer": "ipython3",
   "version": "3.9.7"
  }
 },
 "nbformat": 4,
 "nbformat_minor": 5
}
